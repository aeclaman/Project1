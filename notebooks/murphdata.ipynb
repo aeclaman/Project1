{
 "cells": [
  {
   "cell_type": "code",
   "execution_count": 1,
   "metadata": {},
   "outputs": [
    {
     "data": {
      "text/html": [
       "<div>\n",
       "<style scoped>\n",
       "    .dataframe tbody tr th:only-of-type {\n",
       "        vertical-align: middle;\n",
       "    }\n",
       "\n",
       "    .dataframe tbody tr th {\n",
       "        vertical-align: top;\n",
       "    }\n",
       "\n",
       "    .dataframe thead th {\n",
       "        text-align: right;\n",
       "    }\n",
       "</style>\n",
       "<table border=\"1\" class=\"dataframe\">\n",
       "  <thead>\n",
       "    <tr style=\"text-align: right;\">\n",
       "      <th></th>\n",
       "      <th>LOCATION</th>\n",
       "      <th>INDICATOR</th>\n",
       "      <th>SUBJECT</th>\n",
       "      <th>MEASURE</th>\n",
       "      <th>FREQUENCY</th>\n",
       "      <th>TIME</th>\n",
       "      <th>Value</th>\n",
       "      <th>Flag Codes</th>\n",
       "    </tr>\n",
       "  </thead>\n",
       "  <tbody>\n",
       "    <tr>\n",
       "      <th>0</th>\n",
       "      <td>AUS</td>\n",
       "      <td>SUICIDE</td>\n",
       "      <td>TOT</td>\n",
       "      <td>100000PER</td>\n",
       "      <td>A</td>\n",
       "      <td>2014</td>\n",
       "      <td>12.3</td>\n",
       "      <td>NaN</td>\n",
       "    </tr>\n",
       "    <tr>\n",
       "      <th>1</th>\n",
       "      <td>AUS</td>\n",
       "      <td>SUICIDE</td>\n",
       "      <td>TOT</td>\n",
       "      <td>100000PER</td>\n",
       "      <td>A</td>\n",
       "      <td>2015</td>\n",
       "      <td>12.8</td>\n",
       "      <td>NaN</td>\n",
       "    </tr>\n",
       "    <tr>\n",
       "      <th>2</th>\n",
       "      <td>AUT</td>\n",
       "      <td>SUICIDE</td>\n",
       "      <td>TOT</td>\n",
       "      <td>100000PER</td>\n",
       "      <td>A</td>\n",
       "      <td>2014</td>\n",
       "      <td>13.9</td>\n",
       "      <td>NaN</td>\n",
       "    </tr>\n",
       "    <tr>\n",
       "      <th>3</th>\n",
       "      <td>AUT</td>\n",
       "      <td>SUICIDE</td>\n",
       "      <td>TOT</td>\n",
       "      <td>100000PER</td>\n",
       "      <td>A</td>\n",
       "      <td>2015</td>\n",
       "      <td>12.9</td>\n",
       "      <td>NaN</td>\n",
       "    </tr>\n",
       "    <tr>\n",
       "      <th>4</th>\n",
       "      <td>AUT</td>\n",
       "      <td>SUICIDE</td>\n",
       "      <td>TOT</td>\n",
       "      <td>100000PER</td>\n",
       "      <td>A</td>\n",
       "      <td>2016</td>\n",
       "      <td>12.2</td>\n",
       "      <td>NaN</td>\n",
       "    </tr>\n",
       "  </tbody>\n",
       "</table>\n",
       "</div>"
      ],
      "text/plain": [
       "  LOCATION INDICATOR SUBJECT    MEASURE FREQUENCY  TIME  Value  Flag Codes\n",
       "0      AUS   SUICIDE     TOT  100000PER         A  2014   12.3         NaN\n",
       "1      AUS   SUICIDE     TOT  100000PER         A  2015   12.8         NaN\n",
       "2      AUT   SUICIDE     TOT  100000PER         A  2014   13.9         NaN\n",
       "3      AUT   SUICIDE     TOT  100000PER         A  2015   12.9         NaN\n",
       "4      AUT   SUICIDE     TOT  100000PER         A  2016   12.2         NaN"
      ]
     },
     "execution_count": 1,
     "metadata": {},
     "output_type": "execute_result"
    }
   ],
   "source": [
    "import os\n",
    "import pandas as pd\n",
    "import numpy as np\n",
    "import matplotlib.pyplot as plt\n",
    "\n",
    "pathA = os.path.join(\"..\", \"data\", \"MaybeData\", \"International\", \"DP_LIVE_21032019024128590.csv\")\n",
    "oecd_data = pd.read_csv(pathA)\n",
    "oecd_df = pd.DataFrame(oecd_data)\n",
    "oecd_df.head()"
   ]
  },
  {
   "cell_type": "code",
   "execution_count": 2,
   "metadata": {},
   "outputs": [
    {
     "data": {
      "text/html": [
       "<div>\n",
       "<style scoped>\n",
       "    .dataframe tbody tr th:only-of-type {\n",
       "        vertical-align: middle;\n",
       "    }\n",
       "\n",
       "    .dataframe tbody tr th {\n",
       "        vertical-align: top;\n",
       "    }\n",
       "\n",
       "    .dataframe thead th {\n",
       "        text-align: right;\n",
       "    }\n",
       "</style>\n",
       "<table border=\"1\" class=\"dataframe\">\n",
       "  <thead>\n",
       "    <tr style=\"text-align: right;\">\n",
       "      <th></th>\n",
       "      <th>LOCATION</th>\n",
       "      <th>INDICATOR</th>\n",
       "      <th>SUBJECT</th>\n",
       "      <th>MEASURE</th>\n",
       "      <th>FREQUENCY</th>\n",
       "      <th>TIME</th>\n",
       "      <th>Value</th>\n",
       "      <th>Flag Codes</th>\n",
       "    </tr>\n",
       "  </thead>\n",
       "  <tbody>\n",
       "    <tr>\n",
       "      <th>0</th>\n",
       "      <td>AUS</td>\n",
       "      <td>SUICIDE</td>\n",
       "      <td>TOT</td>\n",
       "      <td>100000PER</td>\n",
       "      <td>A</td>\n",
       "      <td>2014</td>\n",
       "      <td>12.3</td>\n",
       "      <td>NaN</td>\n",
       "    </tr>\n",
       "    <tr>\n",
       "      <th>1</th>\n",
       "      <td>AUT</td>\n",
       "      <td>SUICIDE</td>\n",
       "      <td>TOT</td>\n",
       "      <td>100000PER</td>\n",
       "      <td>A</td>\n",
       "      <td>2014</td>\n",
       "      <td>13.9</td>\n",
       "      <td>NaN</td>\n",
       "    </tr>\n",
       "    <tr>\n",
       "      <th>2</th>\n",
       "      <td>BEL</td>\n",
       "      <td>SUICIDE</td>\n",
       "      <td>TOT</td>\n",
       "      <td>100000PER</td>\n",
       "      <td>A</td>\n",
       "      <td>2014</td>\n",
       "      <td>16.1</td>\n",
       "      <td>NaN</td>\n",
       "    </tr>\n",
       "    <tr>\n",
       "      <th>3</th>\n",
       "      <td>BRA</td>\n",
       "      <td>SUICIDE</td>\n",
       "      <td>TOT</td>\n",
       "      <td>100000PER</td>\n",
       "      <td>A</td>\n",
       "      <td>2014</td>\n",
       "      <td>5.7</td>\n",
       "      <td>NaN</td>\n",
       "    </tr>\n",
       "    <tr>\n",
       "      <th>4</th>\n",
       "      <td>CHE</td>\n",
       "      <td>SUICIDE</td>\n",
       "      <td>TOT</td>\n",
       "      <td>100000PER</td>\n",
       "      <td>A</td>\n",
       "      <td>2014</td>\n",
       "      <td>12.0</td>\n",
       "      <td>NaN</td>\n",
       "    </tr>\n",
       "  </tbody>\n",
       "</table>\n",
       "</div>"
      ],
      "text/plain": [
       "  LOCATION INDICATOR SUBJECT    MEASURE FREQUENCY  TIME  Value  Flag Codes\n",
       "0      AUS   SUICIDE     TOT  100000PER         A  2014   12.3         NaN\n",
       "1      AUT   SUICIDE     TOT  100000PER         A  2014   13.9         NaN\n",
       "2      BEL   SUICIDE     TOT  100000PER         A  2014   16.1         NaN\n",
       "3      BRA   SUICIDE     TOT  100000PER         A  2014    5.7         NaN\n",
       "4      CHE   SUICIDE     TOT  100000PER         A  2014   12.0         NaN"
      ]
     },
     "execution_count": 2,
     "metadata": {},
     "output_type": "execute_result"
    }
   ],
   "source": [
    "# len(oecd_df.groupby([\"LOCATION\"]).groups)     # 38 countries, \n",
    "# oecd_df.groupby('LOCATION').first()          # all w values for 2014\n",
    "# oecd_df.groupby('LOCATION').last()          # some ONLY have data for 2014\n",
    "# with no population data or economica data, visualization is bland.\n",
    "oecd_group = pd.DataFrame(oecd_df.groupby('LOCATION', as_index=False).first())\n",
    "oecd_group.head()"
   ]
  },
  {
   "cell_type": "code",
   "execution_count": 52,
   "metadata": {},
   "outputs": [
    {
     "ename": "TypeError",
     "evalue": "'tuple' object is not callable",
     "output_type": "error",
     "traceback": [
      "\u001b[0;31m---------------------------------------------------------------------------\u001b[0m",
      "\u001b[0;31mTypeError\u001b[0m                                 Traceback (most recent call last)",
      "\u001b[0;32m<ipython-input-52-2b9b469c5768>\u001b[0m in \u001b[0;36m<module>\u001b[0;34m\u001b[0m\n\u001b[1;32m      6\u001b[0m \u001b[0;31m# plt.set_yticks([0, len(oecd_group)]\u001b[0m\u001b[0;34m\u001b[0m\u001b[0;34m\u001b[0m\u001b[0;34m\u001b[0m\u001b[0m\n\u001b[1;32m      7\u001b[0m \u001b[0;31m# plt.set_yticklabels(oecd_group.loc[:,\"LOCATION\"])\u001b[0m\u001b[0;34m\u001b[0m\u001b[0;34m\u001b[0m\u001b[0;34m\u001b[0m\u001b[0m\n\u001b[0;32m----> 8\u001b[0;31m \u001b[0mplt\u001b[0m\u001b[0;34m.\u001b[0m\u001b[0myticks\u001b[0m\u001b[0;34m(\u001b[0m\u001b[0my_axis\u001b[0m\u001b[0;34m,\u001b[0m \u001b[0mlabels\u001b[0m\u001b[0;34m)\u001b[0m\u001b[0;34m\u001b[0m\u001b[0;34m\u001b[0m\u001b[0m\n\u001b[0m\u001b[1;32m      9\u001b[0m \u001b[0;31m# ..., tick_labels=labels) arg in plt.barh gives Attribute error, unknown property\u001b[0m\u001b[0;34m\u001b[0m\u001b[0;34m\u001b[0m\u001b[0;34m\u001b[0m\u001b[0m\n",
      "\u001b[0;31mTypeError\u001b[0m: 'tuple' object is not callable"
     ]
    }
   ],
   "source": [
    "y_axis = np.arange(len(oecd_group))\n",
    "# locs = np.arange(len(oecd_group))\n",
    "labels = oecd_group.loc[:,\"LOCATION\"]\n",
    "# locs, labels = yticks()\n",
    "# plt.set_yticks(y-axis, labels)\n",
    "# plt.set_yticks([0, len(oecd_group)]\n",
    "# plt.set_yticklabels(oecd_group.loc[:,\"LOCATION\"]) \n",
    "plt.yticks(y_axis, labels)   \n",
    "# ..., tick_labels=labels) arg in plt.barh gives Attribute error, unknown property"
   ]
  },
  {
   "cell_type": "code",
   "execution_count": 53,
   "metadata": {},
   "outputs": [
    {
     "data": {
      "image/png": "[encoded data removed]",
      "text/plain": [
       "<Figure size 360x576 with 1 Axes>"
      ]
     },
     "metadata": {
      "needs_background": "light"
     },
     "output_type": "display_data"
    }
   ],
   "source": [
    "plt.figure(figsize=(5,8))\n",
    "plt.barh(y_axis, oecd_group[\"Value\"], color='r', align=\"center\", \\\n",
    "         edgecolor='k', linewidth=1)\n",
    "plt.xlim(-0.5, (oecd_group[\"Value\"]).max()+1)\n",
    "plt.ylim(-1, len(oecd_group))\n",
    "plt.title(\"Suicide Rates by Country, 2014 (per 100,000 population)\")\n",
    "plt.xlabel(\"Suicides /100,000 population\")\n",
    "\n",
    "# plt.ylabel(\"Country\")\n",
    "# plt.tight_layout()             # nothing changes\n",
    "# plt.savefig(\"../Images/avg_state_rain.png\")\n",
    "plt.show()"
   ]
  },
  {
   "cell_type": "code",
   "execution_count": null,
   "metadata": {},
   "outputs": [],
   "source": [
    "pathB = os.path.join(\"..\", \"data\", \"MaybeData\", \"International\", \"master.csv\")\n",
    "who_data = pd.read_csv(pathB)\n",
    "who_df = pd.DataFrame(who_data)\n",
    "who_df.head()"
   ]
  },
  {
   "cell_type": "code",
   "execution_count": null,
   "metadata": {},
   "outputs": [],
   "source": [
    "# len(who_df.groupby([\"country\"]).groups)        # 101 countries?\n",
    "who_df.groupby([\"country\"]).groups\n",
    "# len(who_df)             \n",
    "#27820 rows, 264 entries/country; 12 age+gender rows/yr x 10yrs (2 missing)\n",
    "\n",
    "# countries = []    \n",
    "# for i in len(who_df):\n",
    "#     if who_df.loc[i,\"coutry\"] not in countries:\n",
    "#         countries.append(who_df.loc[i,country])\n",
    "# print(*countries)\n",
    "\n",
    "# who_group = pd.DataFrame(who_df.groupby('country', as_index=False).first())\n",
    "# who_group.head(10)"
   ]
  },
  {
   "cell_type": "code",
   "execution_count": null,
   "metadata": {},
   "outputs": [],
   "source": [
    "# csv_path = os.path.join('../data/MaybeData/ByStateSuicRates/)\n",
    "# file_name = \"WISQARS_areasHighConcentration\" \n",
    "# file_append = range(2004, 2015, 1)\n",
    "# path_tail = \".csv\"\n",
    "\n",
    "# for i in file_append, \n",
    "#     file_path = f\"{cvs_path}{file_name}{file_append}{path_tail}\" \n",
    "#     data_file_name = f\"orig_data_{file_append}\"\n",
    "#     with open(csvpath, newline='') as csvfile:\n",
    "#         csvreader = csv.reader(file_path, delimiter=',')\n",
    "#         orig_data = pd.read_csv(filepath)\n",
    "#     orig_df = pd.DataFrame(orig_data)\n",
    "#     if i = \"2004\" then:\n",
    "#         by_state_df = orig_df.copy[0,3,4]\n",
    "#     by_state_df.append(\"{file_append}suic\": orig_df[\"ageAdjustedRate\"], \"{file_append}pop\": orig_df[\"population\"])\n"
   ]
  },
  {
   "cell_type": "code",
   "execution_count": null,
   "metadata": {},
   "outputs": [],
   "source": []
  }
 ],
 "metadata": {
  "kernelspec": {
   "display_name": "Python 3",
   "language": "python",
   "name": "python3"
  },
  "language_info": {
   "codemirror_mode": {
    "name": "ipython",
    "version": 3
   },
   "file_extension": ".py",
   "mimetype": "text/x-python",
   "name": "python",
   "nbconvert_exporter": "python",
   "pygments_lexer": "ipython3",
   "version": "3.7.1"
  }
 },
 "nbformat": 4,
 "nbformat_minor": 2
}
