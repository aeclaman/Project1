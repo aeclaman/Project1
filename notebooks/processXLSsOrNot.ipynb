{
 "cells": [
  {
   "cell_type": "code",
   "execution_count": null,
   "metadata": {},
   "outputs": [],
   "source": [
    "# csv_path = os.path.join('../data/MaybeData/ByStateSuicRates/)\n",
    "# file_name = \"WISQARS_areasHighConcentration\" \n",
    "# file_append = range(2004, 2015, 1)\n",
    "# path_tail = \".csv\"\n",
    "\n",
    "# for i in file_append, \n",
    "#     file_path = f\"{cvs_path}{file_name}{file_append}{path_tail}\" \n",
    "#     data_file_name = f\"orig_data_{file_append}\"\n",
    "#     with open(csvpath, newline='') as csvfile:\n",
    "#         csvreader = csv.reader(file_path, delimiter=',')\n",
    "#         orig_data = pd.read_csv(filepath)\n",
    "#     orig_df = pd.DataFrame(orig_data)\n",
    "#     if i = \"2004\" then:\n",
    "#         by_state_df = orig_df.copy[0,3,4]\n",
    "#     by_state_df.append(\"{file_append}suic\": orig_df[\"ageAdjustedRate\"], \"{file_append}pop\": orig_df[\"population\"])\n"
   ]
  }
 ],
 "metadata": {
  "kernelspec": {
   "display_name": "Python 3",
   "language": "python",
   "name": "python3"
  },
  "language_info": {
   "codemirror_mode": {
    "name": "ipython",
    "version": 3
   },
   "file_extension": ".py",
   "mimetype": "text/x-python",
   "name": "python",
   "nbconvert_exporter": "python",
   "pygments_lexer": "ipython3",
   "version": "3.7.1"
  }
 },
 "nbformat": 4,
 "nbformat_minor": 2
}
