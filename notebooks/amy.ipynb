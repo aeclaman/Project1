{
 "cells": [
  {
   "cell_type": "markdown",
   "metadata": {},
   "source": [
    "# Project 1\n",
    "----\n",
    "\n",
    "### Analysis\n",
    "\n",
    "---\n"
   ]
  },
  {
   "cell_type": "code",
   "execution_count": 26,
   "metadata": {
    "scrolled": true
   },
   "outputs": [],
   "source": [
    "# Dependencies and Setup\n",
    "import matplotlib.pyplot as plt\n",
    "import pandas as pd\n",
    "import numpy as np\n",
    "import requests\n",
    "import datetime\n",
    "from pprint import pprint\n",
    "\n",
    "# Import API key\n",
    "#from api_keys import api_key\n",
    "\n",
    "\n",
    "# Incorporated citipy to determine city based on latitude and longitude\n",
    "from citipy import citipy\n",
    "\n",
    "#Output File (PNG)\n",
    "output_us_suicide_vs_age = \"../Images/us_suicide_vs_age_line.png\"\n",
    "\n",
    "# Output File (CSV)\n",
    "output_facility_data_file = \"../data/cleandata/facilities.csv\"\n",
    "output_population_data_file = \"../data/cleandata/population.csv\""
   ]
  },
  {
   "cell_type": "markdown",
   "metadata": {},
   "source": [
    "## Data Gathering\n"
   ]
  },
  {
   "cell_type": "code",
   "execution_count": 3,
   "metadata": {},
   "outputs": [
    {
     "data": {
      "text/plain": [
       "name1        9686\n",
       "name2        5430\n",
       "city         9686\n",
       "state        9686\n",
       "zip          9686\n",
       "latitude     9685\n",
       "longitude    9685\n",
       "dtype: int64"
      ]
     },
     "execution_count": 3,
     "metadata": {},
     "output_type": "execute_result"
    }
   ],
   "source": [
    "#Mental Health Facilities in the US\n",
    "#facilities_file = \"../data/rawdata/Behavioral_Health_Treatment_Facility_listing_2019_03_22_215606.csv\"\n",
    "facilities_file = \"../data/rawdata/Behavioral_Health_Treament_Facility_listing_2019_03_22_215606.csv\"\n",
    "facilities_df = pd.read_csv(facilities_file)\n",
    "\n",
    "#Keep only necessary columns\n",
    "facilities_df_sub = facilities_df[['    name1', 'name2', 'city', 'state', 'zip', 'latitude', 'longitude']]\n",
    "\n",
    "#Suppress leading spaces on column header for name1\n",
    "facilities_df_final = facilities_df_sub.rename(columns={\"    name1\":\"name1\"})\n",
    "\n",
    "#Look at data for consistency\n",
    "facilities_df_final.count()"
   ]
  },
  {
   "cell_type": "code",
   "execution_count": 4,
   "metadata": {},
   "outputs": [
    {
     "data": {
      "text/plain": [
       "name1        9685\n",
       "name2        5429\n",
       "city         9685\n",
       "state        9685\n",
       "zip          9685\n",
       "latitude     9685\n",
       "longitude    9685\n",
       "dtype: int64"
      ]
     },
     "execution_count": 4,
     "metadata": {},
     "output_type": "execute_result"
    }
   ],
   "source": [
    "#drop one row with no latitude and longitude data\n",
    "facilities_df_final.dropna(subset=['latitude', 'longitude'], inplace=True)\n",
    "facilities_df_final.count()"
   ]
  },
  {
   "cell_type": "code",
   "execution_count": 5,
   "metadata": {},
   "outputs": [
    {
     "name": "stdout",
     "output_type": "stream",
     "text": [
      "name1        9614\n",
      "name2        5379\n",
      "city         9614\n",
      "state        9614\n",
      "zip          9614\n",
      "latitude     9614\n",
      "longitude    9614\n",
      "dtype: int64\n",
      "['TX' 'LA' 'AR' 'MS' 'OK' 'AL' 'MO' 'TN' 'KS' 'NM' 'FL' 'IL' 'KY' 'GA'\n",
      " 'CO' 'NE' 'IN' 'IA' 'NC' 'SC' 'AZ' 'VA' 'OH' 'SD' 'WI' 'WY' 'WV' 'MN'\n",
      " 'UT' 'MI' 'PA' 'CA' 'MD' 'ND' 'NV' 'MT' 'DC' 'ID' 'NY' 'DE' 'NJ' 'CT'\n",
      " 'MA' 'VT' 'OR' 'RI' 'NH' 'WA' 'ME' 'AK' 'HI']\n"
     ]
    }
   ],
   "source": [
    "#remove us territories:  GU (Guam), AS (), PR (Puerto Rico), VI (Virgin Islands) \n",
    "#Note: keeping Washington DC in data, so total group of states will be 51\n",
    "us_facilities_df = facilities_df_final[(facilities_df_final.state != 'GU') & (facilities_df_final.state != 'AS') & (facilities_df_final.state != 'PR') & (facilities_df_final.state != 'VI')]\n",
    "print(us_facilities_df.count())\n",
    "print(us_facilities_df.state.unique())"
   ]
  },
  {
   "cell_type": "code",
   "execution_count": 6,
   "metadata": {},
   "outputs": [],
   "source": [
    "# Export file as a CSV, without the Pandas index, but with the header\n",
    "us_facilities_df.to_csv(output_facility_data_file, index=False, header=True)\n"
   ]
  },
  {
   "cell_type": "code",
   "execution_count": 7,
   "metadata": {},
   "outputs": [
    {
     "name": "stdout",
     "output_type": "stream",
     "text": [
      "  state  State Name  Population\n",
      "0    AL     Alabama     4887871\n",
      "1    AK      Alaska      737438\n",
      "2    AZ     Arizona     7171646\n",
      "3    AR    Arkansas     3013825\n",
      "4    CA  California    39557045\n"
     ]
    }
   ],
   "source": [
    "#US Census Bureau population in 50 US States\n",
    "us_population_file = \"../data/rawdata/PopulationEstimatesByState.csv\"\n",
    "pop_df = pd.read_csv(us_population_file)\n",
    "\n",
    "#rename abbreviation column to state so as to be able to merge data with other files\n",
    "pop_df = pop_df.rename(columns={\"Abbv\":\"state\",\n",
    "                                \"States\":\"State Name\"})\n",
    "\n",
    "#remove commans in population counts and make it a numeric field\n",
    "pop_df['Population'] = pop_df['Population'].str.replace(',', '')\n",
    "pop_df[\"Population\"] = pd.to_numeric(pop_df[\"Population\"])\n",
    "print(pop_df.head())\n",
    "\n",
    "## Export file as a CSV, without the Pandas index, but with the header\n",
    "pop_df.to_csv(output_population_data_file, index=False, header=True)"
   ]
  },
  {
   "cell_type": "code",
   "execution_count": 8,
   "metadata": {},
   "outputs": [
    {
     "data": {
      "text/html": [
       "<div>\n",
       "<style scoped>\n",
       "    .dataframe tbody tr th:only-of-type {\n",
       "        vertical-align: middle;\n",
       "    }\n",
       "\n",
       "    .dataframe tbody tr th {\n",
       "        vertical-align: top;\n",
       "    }\n",
       "\n",
       "    .dataframe thead th {\n",
       "        text-align: right;\n",
       "    }\n",
       "</style>\n",
       "<table border=\"1\" class=\"dataframe\">\n",
       "  <thead>\n",
       "    <tr style=\"text-align: right;\">\n",
       "      <th></th>\n",
       "      <th>name1</th>\n",
       "      <th>name2</th>\n",
       "      <th>city</th>\n",
       "      <th>state</th>\n",
       "      <th>zip</th>\n",
       "      <th>latitude</th>\n",
       "      <th>longitude</th>\n",
       "      <th>State Name</th>\n",
       "      <th>Population</th>\n",
       "    </tr>\n",
       "  </thead>\n",
       "  <tbody>\n",
       "    <tr>\n",
       "      <th>0</th>\n",
       "      <td>Sheltering Harbour</td>\n",
       "      <td>NaN</td>\n",
       "      <td>Spring</td>\n",
       "      <td>TX</td>\n",
       "      <td>77379</td>\n",
       "      <td>30.031183</td>\n",
       "      <td>-95.489886</td>\n",
       "      <td>Texas</td>\n",
       "      <td>28701845</td>\n",
       "    </tr>\n",
       "    <tr>\n",
       "      <th>1</th>\n",
       "      <td>Cypress Creek Hospital</td>\n",
       "      <td>NaN</td>\n",
       "      <td>Houston</td>\n",
       "      <td>TX</td>\n",
       "      <td>77090</td>\n",
       "      <td>30.024661</td>\n",
       "      <td>-95.444850</td>\n",
       "      <td>Texas</td>\n",
       "      <td>28701845</td>\n",
       "    </tr>\n",
       "    <tr>\n",
       "      <th>2</th>\n",
       "      <td>Intracare North Hospital</td>\n",
       "      <td>NaN</td>\n",
       "      <td>Houston</td>\n",
       "      <td>TX</td>\n",
       "      <td>77090</td>\n",
       "      <td>30.023827</td>\n",
       "      <td>-95.440085</td>\n",
       "      <td>Texas</td>\n",
       "      <td>28701845</td>\n",
       "    </tr>\n",
       "    <tr>\n",
       "      <th>3</th>\n",
       "      <td>Tomball Regional Medical Center</td>\n",
       "      <td>Senior Care Behavioral Health</td>\n",
       "      <td>Tomball</td>\n",
       "      <td>TX</td>\n",
       "      <td>77375</td>\n",
       "      <td>30.087405</td>\n",
       "      <td>-95.623617</td>\n",
       "      <td>Texas</td>\n",
       "      <td>28701845</td>\n",
       "    </tr>\n",
       "    <tr>\n",
       "      <th>4</th>\n",
       "      <td>Unity Childrens Home</td>\n",
       "      <td>Trickey Road Location</td>\n",
       "      <td>Houston</td>\n",
       "      <td>TX</td>\n",
       "      <td>77067</td>\n",
       "      <td>29.956039</td>\n",
       "      <td>-95.445391</td>\n",
       "      <td>Texas</td>\n",
       "      <td>28701845</td>\n",
       "    </tr>\n",
       "  </tbody>\n",
       "</table>\n",
       "</div>"
      ],
      "text/plain": [
       "                             name1                          name2     city  \\\n",
       "0               Sheltering Harbour                            NaN   Spring   \n",
       "1           Cypress Creek Hospital                            NaN  Houston   \n",
       "2         Intracare North Hospital                            NaN  Houston   \n",
       "3  Tomball Regional Medical Center  Senior Care Behavioral Health  Tomball   \n",
       "4             Unity Childrens Home          Trickey Road Location  Houston   \n",
       "\n",
       "  state    zip   latitude  longitude State Name  Population  \n",
       "0    TX  77379  30.031183 -95.489886      Texas    28701845  \n",
       "1    TX  77090  30.024661 -95.444850      Texas    28701845  \n",
       "2    TX  77090  30.023827 -95.440085      Texas    28701845  \n",
       "3    TX  77375  30.087405 -95.623617      Texas    28701845  \n",
       "4    TX  77067  29.956039 -95.445391      Texas    28701845  "
      ]
     },
     "execution_count": 8,
     "metadata": {},
     "output_type": "execute_result"
    }
   ],
   "source": [
    "# Merge two dataframes using an inner join\n",
    "merge_table = pd.merge(facilities_df_final, pop_df, on=\"state\", how='inner')\n",
    "merge_table.head()\n"
   ]
  },
  {
   "cell_type": "code",
   "execution_count": 29,
   "metadata": {},
   "outputs": [
    {
     "data": {
      "image/png": "[encoded data removed]",
      "text/plain": [
       "<Figure size 2160x360 with 2 Axes>"
      ]
     },
     "metadata": {
      "needs_background": "light"
     },
     "output_type": "display_data"
    }
   ],
   "source": [
    "facilities_count_by_state = merge_table.groupby('state').agg({'name1':'count','Population':'mean'})\n",
    "facilities_count_by_state.rename(columns={\"name1\":\"Count\"})\n",
    "fig = plt.figure() # Create matplotlib figure\n",
    "\n",
    "ax = fig.add_subplot(111) # Create matplotlib axes\n",
    "ax2 = ax.twinx() # Create another axes that shares the same x-axis as ax.\n",
    "\n",
    "\n",
    "facilities_count_by_state.name1.plot(kind='bar', color='red', ax=ax, figsize=(30,5), position=1)\n",
    "facilities_count_by_state.Population.plot(kind='bar', color='blue', ax=ax2, figsize=(30,5), position=0)\n",
    "\n",
    "ax.set_ylabel('Total Mental Health Facilities')\n",
    "ax2.set_ylabel('Population (millions)')\n",
    "\n",
    "plt.show()"
   ]
  },
  {
   "cell_type": "code",
   "execution_count": 30,
   "metadata": {},
   "outputs": [],
   "source": [
    "facilities_count_by_state.rename({\"name1\":\"Facility Count\"}, inplace=True)"
   ]
  },
  {
   "cell_type": "code",
   "execution_count": 31,
   "metadata": {},
   "outputs": [
    {
     "data": {
      "text/plain": [
       "Text(0, 0.5, 'State Population in Millions')"
      ]
     },
     "execution_count": 31,
     "metadata": {},
     "output_type": "execute_result"
    },
    {
     "data": {
      "image/png": "[encoded data removed]",
      "text/plain": [
       "<Figure size 1440x360 with 2 Axes>"
      ]
     },
     "metadata": {
      "needs_background": "light"
     },
     "output_type": "display_data"
    }
   ],
   "source": [
    "#plot how many mental health facilities found in each state\n",
    "#facilities_count_by_state = us_facilities_df.groupby('state').name1.count()\n",
    "facilities_count_by_state.plot.bar(secondary_y= 'Population', figsize=(20,5), alpha=0.5)\n",
    "plt.title(\"Number of Mental Health Facilities per US State\")\n",
    "plt.title(\"Number of Mental Health Facilities per US State vs. Population\")\n",
    "plt.xlabel(\"State\")\n",
    "plt.ylabel(\"State Population in Millions\")"
   ]
  },
  {
   "cell_type": "code",
   "execution_count": 146,
   "metadata": {},
   "outputs": [
    {
     "data": {
      "text/plain": [
       "Text(0, 0.5, 'Count')"
      ]
     },
     "execution_count": 146,
     "metadata": {},
     "output_type": "execute_result"
    },
    {
     "data": {
      "image/png": "[encoded data removed]",
      "text/plain": [
       "<Figure size 1440x360 with 1 Axes>"
      ]
     },
     "metadata": {
      "needs_background": "light"
     },
     "output_type": "display_data"
    }
   ],
   "source": [
    "#plot how many mental health facilities found in each state\n",
    "facilities_count_by_state = us_facilities_df.groupby('state').name1.count()\n",
    "facilities_count_by_state.plot.bar(figsize=(20,5), color='b', alpha=0.5)\n",
    "plt.title(\"Number of Mental Health Facilities per US State\")\n",
    "plt.xlabel(\"State\")\n",
    "plt.ylabel(\"Count\")"
   ]
  },
  {
   "cell_type": "markdown",
   "metadata": {},
   "source": [
    "## Use master.csv to create a line plot of suicide totals over time sorted by age group"
   ]
  },
  {
   "cell_type": "code",
   "execution_count": 10,
   "metadata": {},
   "outputs": [
    {
     "data": {
      "text/html": [
       "<div>\n",
       "<style scoped>\n",
       "    .dataframe tbody tr th:only-of-type {\n",
       "        vertical-align: middle;\n",
       "    }\n",
       "\n",
       "    .dataframe tbody tr th {\n",
       "        vertical-align: top;\n",
       "    }\n",
       "\n",
       "    .dataframe thead th {\n",
       "        text-align: right;\n",
       "    }\n",
       "</style>\n",
       "<table border=\"1\" class=\"dataframe\">\n",
       "  <thead>\n",
       "    <tr style=\"text-align: right;\">\n",
       "      <th></th>\n",
       "      <th>country</th>\n",
       "      <th>year</th>\n",
       "      <th>sex</th>\n",
       "      <th>age</th>\n",
       "      <th>suicides_no</th>\n",
       "      <th>population</th>\n",
       "      <th>suicides/100k pop</th>\n",
       "      <th>country-year</th>\n",
       "      <th>HDI for year</th>\n",
       "      <th>gdp_for_year ($)</th>\n",
       "      <th>gdp_per_capita ($)</th>\n",
       "      <th>generation</th>\n",
       "    </tr>\n",
       "  </thead>\n",
       "  <tbody>\n",
       "    <tr>\n",
       "      <th>26848</th>\n",
       "      <td>United States</td>\n",
       "      <td>1985</td>\n",
       "      <td>male</td>\n",
       "      <td>75+ years</td>\n",
       "      <td>2177</td>\n",
       "      <td>4064000</td>\n",
       "      <td>53.57</td>\n",
       "      <td>United States1985</td>\n",
       "      <td>0.841</td>\n",
       "      <td>4,346,734,000,000</td>\n",
       "      <td>19693</td>\n",
       "      <td>G.I. Generation</td>\n",
       "    </tr>\n",
       "    <tr>\n",
       "      <th>26849</th>\n",
       "      <td>United States</td>\n",
       "      <td>1985</td>\n",
       "      <td>male</td>\n",
       "      <td>55-74 years</td>\n",
       "      <td>5302</td>\n",
       "      <td>17971000</td>\n",
       "      <td>29.50</td>\n",
       "      <td>United States1985</td>\n",
       "      <td>0.841</td>\n",
       "      <td>4,346,734,000,000</td>\n",
       "      <td>19693</td>\n",
       "      <td>G.I. Generation</td>\n",
       "    </tr>\n",
       "    <tr>\n",
       "      <th>26850</th>\n",
       "      <td>United States</td>\n",
       "      <td>1985</td>\n",
       "      <td>male</td>\n",
       "      <td>25-34 years</td>\n",
       "      <td>5134</td>\n",
       "      <td>20986000</td>\n",
       "      <td>24.46</td>\n",
       "      <td>United States1985</td>\n",
       "      <td>0.841</td>\n",
       "      <td>4,346,734,000,000</td>\n",
       "      <td>19693</td>\n",
       "      <td>Boomers</td>\n",
       "    </tr>\n",
       "    <tr>\n",
       "      <th>26851</th>\n",
       "      <td>United States</td>\n",
       "      <td>1985</td>\n",
       "      <td>male</td>\n",
       "      <td>35-54 years</td>\n",
       "      <td>6053</td>\n",
       "      <td>26589000</td>\n",
       "      <td>22.77</td>\n",
       "      <td>United States1985</td>\n",
       "      <td>0.841</td>\n",
       "      <td>4,346,734,000,000</td>\n",
       "      <td>19693</td>\n",
       "      <td>Silent</td>\n",
       "    </tr>\n",
       "    <tr>\n",
       "      <th>26852</th>\n",
       "      <td>United States</td>\n",
       "      <td>1985</td>\n",
       "      <td>male</td>\n",
       "      <td>15-24 years</td>\n",
       "      <td>4267</td>\n",
       "      <td>19962000</td>\n",
       "      <td>21.38</td>\n",
       "      <td>United States1985</td>\n",
       "      <td>0.841</td>\n",
       "      <td>4,346,734,000,000</td>\n",
       "      <td>19693</td>\n",
       "      <td>Generation X</td>\n",
       "    </tr>\n",
       "  </tbody>\n",
       "</table>\n",
       "</div>"
      ],
      "text/plain": [
       "             country  year   sex          age  suicides_no  population  \\\n",
       "26848  United States  1985  male    75+ years         2177     4064000   \n",
       "26849  United States  1985  male  55-74 years         5302    17971000   \n",
       "26850  United States  1985  male  25-34 years         5134    20986000   \n",
       "26851  United States  1985  male  35-54 years         6053    26589000   \n",
       "26852  United States  1985  male  15-24 years         4267    19962000   \n",
       "\n",
       "       suicides/100k pop       country-year  HDI for year  gdp_for_year ($)   \\\n",
       "26848              53.57  United States1985         0.841  4,346,734,000,000   \n",
       "26849              29.50  United States1985         0.841  4,346,734,000,000   \n",
       "26850              24.46  United States1985         0.841  4,346,734,000,000   \n",
       "26851              22.77  United States1985         0.841  4,346,734,000,000   \n",
       "26852              21.38  United States1985         0.841  4,346,734,000,000   \n",
       "\n",
       "       gdp_per_capita ($)       generation  \n",
       "26848               19693  G.I. Generation  \n",
       "26849               19693  G.I. Generation  \n",
       "26850               19693          Boomers  \n",
       "26851               19693           Silent  \n",
       "26852               19693     Generation X  "
      ]
     },
     "execution_count": 10,
     "metadata": {},
     "output_type": "execute_result"
    }
   ],
   "source": [
    "suicide_us = \"../data/cleandata/master.csv\"\n",
    "suicide_df = pd.read_csv(suicide_us)\n",
    "US_data = suicide_df [suicide_df['country'] == 'United States']\n",
    "US_data.head()\n"
   ]
  },
  {
   "cell_type": "code",
   "execution_count": 11,
   "metadata": {},
   "outputs": [
    {
     "name": "stdout",
     "output_type": "stream",
     "text": [
      "<class 'pandas.core.frame.DataFrame'>\n",
      "Int64Index: 372 entries, 26848 to 27219\n",
      "Data columns (total 12 columns):\n",
      "country               372 non-null object\n",
      "year                  372 non-null int64\n",
      "sex                   372 non-null object\n",
      "age                   372 non-null object\n",
      "suicides_no           372 non-null int64\n",
      "population            372 non-null int64\n",
      "suicides/100k pop     372 non-null float64\n",
      "country-year          372 non-null object\n",
      "HDI for year          120 non-null float64\n",
      " gdp_for_year ($)     372 non-null object\n",
      "gdp_per_capita ($)    372 non-null int64\n",
      "generation            372 non-null object\n",
      "dtypes: float64(2), int64(4), object(6)\n",
      "memory usage: 37.8+ KB\n"
     ]
    }
   ],
   "source": [
    "US_data.info()"
   ]
  },
  {
   "cell_type": "code",
   "execution_count": 19,
   "metadata": {},
   "outputs": [
    {
     "data": {
      "text/html": [
       "<div>\n",
       "<style scoped>\n",
       "    .dataframe tbody tr th:only-of-type {\n",
       "        vertical-align: middle;\n",
       "    }\n",
       "\n",
       "    .dataframe tbody tr th {\n",
       "        vertical-align: top;\n",
       "    }\n",
       "\n",
       "    .dataframe thead th {\n",
       "        text-align: right;\n",
       "    }\n",
       "</style>\n",
       "<table border=\"1\" class=\"dataframe\">\n",
       "  <thead>\n",
       "    <tr style=\"text-align: right;\">\n",
       "      <th></th>\n",
       "      <th>year</th>\n",
       "      <th>age</th>\n",
       "      <th>suicides_no</th>\n",
       "    </tr>\n",
       "  </thead>\n",
       "  <tbody>\n",
       "    <tr>\n",
       "      <th>0</th>\n",
       "      <td>1985</td>\n",
       "      <td>15-24 years</td>\n",
       "      <td>5121</td>\n",
       "    </tr>\n",
       "    <tr>\n",
       "      <th>1</th>\n",
       "      <td>1985</td>\n",
       "      <td>25-34 years</td>\n",
       "      <td>6376</td>\n",
       "    </tr>\n",
       "    <tr>\n",
       "      <th>2</th>\n",
       "      <td>1985</td>\n",
       "      <td>35-54 years</td>\n",
       "      <td>8158</td>\n",
       "    </tr>\n",
       "    <tr>\n",
       "      <th>3</th>\n",
       "      <td>1985</td>\n",
       "      <td>5-14 years</td>\n",
       "      <td>278</td>\n",
       "    </tr>\n",
       "    <tr>\n",
       "      <th>4</th>\n",
       "      <td>1985</td>\n",
       "      <td>55-74 years</td>\n",
       "      <td>6870</td>\n",
       "    </tr>\n",
       "  </tbody>\n",
       "</table>\n",
       "</div>"
      ],
      "text/plain": [
       "   year          age  suicides_no\n",
       "0  1985  15-24 years         5121\n",
       "1  1985  25-34 years         6376\n",
       "2  1985  35-54 years         8158\n",
       "3  1985   5-14 years          278\n",
       "4  1985  55-74 years         6870"
      ]
     },
     "execution_count": 19,
     "metadata": {},
     "output_type": "execute_result"
    }
   ],
   "source": [
    "#create a dt with only necessary columnns\n",
    "US_data_sub=US_data[['year', 'age', 'suicides_no', 'population', 'suicides/100k pop']]\n",
    "#gather data in groups by year and age range to plot trends\n",
    "df_age_grp_by_yr=US_data_sub.groupby(['year','age'], as_index=False)\n",
    "df_tot_by_yr=df_age_grp_by_yr['suicides_no'].sum()\n",
    "df_tot_by_yr.head()"
   ]
  },
  {
   "cell_type": "code",
   "execution_count": 27,
   "metadata": {},
   "outputs": [
    {
     "data": {
      "image/png": "[encoded data removed]",
      "text/plain": [
       "<Figure size 1080x360 with 1 Axes>"
      ]
     },
     "metadata": {
      "needs_background": "light"
     },
     "output_type": "display_data"
    }
   ],
   "source": [
    "#Line graph age range vs. suicide rate in US\n",
    "age_grp_1 = df_tot_by_yr.loc[df_tot_by_yr['age']==\"5-14 years\", 'suicides_no']\n",
    "age_grp_2 = df_tot_by_yr.loc[df_tot_by_yr['age']==\"15-24 years\", 'suicides_no']\n",
    "age_grp_3 = df_tot_by_yr.loc[df_tot_by_yr['age']==\"25-34 years\", 'suicides_no']\n",
    "age_grp_4 = df_tot_by_yr.loc[df_tot_by_yr['age']==\"35-54 years\", 'suicides_no']\n",
    "age_grp_5 = df_tot_by_yr.loc[df_tot_by_yr['age']==\"55-74 years\", 'suicides_no']\n",
    "age_grp_6 = df_tot_by_yr.loc[df_tot_by_yr['age']==\"75+ years\", 'suicides_no']\n",
    "time_line = df_tot_by_yr['year'].unique()\n",
    "\n",
    "fig, ax = plt.subplots(figsize=(15, 5))\n",
    "ax.plot(time_line, age_grp_1, label=\"5-14 years\")\n",
    "ax.plot(time_line, age_grp_2, label=\"15-24 years\")\n",
    "ax.plot(time_line, age_grp_3, label=\"25-34 years\")\n",
    "ax.plot(time_line, age_grp_4, label=\"35-54 years\")\n",
    "ax.plot(time_line, age_grp_5, label=\"55-74 years\")\n",
    "ax.plot(time_line, age_grp_6, label=\"75+ years\")\n",
    "ax.legend()\n",
    "\n",
    "# Incorporate the other graph properties\n",
    "plt.title(f\"US Suicide Number by Year and Age Range\" )\n",
    "plt.ylabel(\"Total Suicides\")\n",
    "plt.xlabel(\"Year\")\n",
    "plt.grid(True)\n",
    "\n",
    "\n",
    "fig.tight_layout()\n",
    "fig.savefig(output_us_suicide_vs_age)\n",
    "\n",
    "plt.show()"
   ]
  },
  {
   "cell_type": "markdown",
   "metadata": {},
   "source": [
    "## work area"
   ]
  },
  {
   "cell_type": "code",
   "execution_count": 14,
   "metadata": {},
   "outputs": [
    {
     "data": {
      "text/html": [
       "<div>\n",
       "<style scoped>\n",
       "    .dataframe tbody tr th:only-of-type {\n",
       "        vertical-align: middle;\n",
       "    }\n",
       "\n",
       "    .dataframe tbody tr th {\n",
       "        vertical-align: top;\n",
       "    }\n",
       "\n",
       "    .dataframe thead th {\n",
       "        text-align: right;\n",
       "    }\n",
       "</style>\n",
       "<table border=\"1\" class=\"dataframe\">\n",
       "  <thead>\n",
       "    <tr style=\"text-align: right;\">\n",
       "      <th></th>\n",
       "      <th>year</th>\n",
       "      <th>sex</th>\n",
       "      <th>suicides_no</th>\n",
       "    </tr>\n",
       "  </thead>\n",
       "  <tbody>\n",
       "    <tr>\n",
       "      <th>0</th>\n",
       "      <td>1985</td>\n",
       "      <td>female</td>\n",
       "      <td>6308</td>\n",
       "    </tr>\n",
       "    <tr>\n",
       "      <th>1</th>\n",
       "      <td>1985</td>\n",
       "      <td>male</td>\n",
       "      <td>23138</td>\n",
       "    </tr>\n",
       "    <tr>\n",
       "      <th>2</th>\n",
       "      <td>1986</td>\n",
       "      <td>female</td>\n",
       "      <td>6677</td>\n",
       "    </tr>\n",
       "    <tr>\n",
       "      <th>3</th>\n",
       "      <td>1986</td>\n",
       "      <td>male</td>\n",
       "      <td>24215</td>\n",
       "    </tr>\n",
       "    <tr>\n",
       "      <th>4</th>\n",
       "      <td>1987</td>\n",
       "      <td>female</td>\n",
       "      <td>6522</td>\n",
       "    </tr>\n",
       "  </tbody>\n",
       "</table>\n",
       "</div>"
      ],
      "text/plain": [
       "   year     sex  suicides_no\n",
       "0  1985  female         6308\n",
       "1  1985    male        23138\n",
       "2  1986  female         6677\n",
       "3  1986    male        24215\n",
       "4  1987  female         6522"
      ]
     },
     "execution_count": 14,
     "metadata": {},
     "output_type": "execute_result"
    }
   ],
   "source": [
    "df_by_yr=US_data.groupby(['year', 'sex'], as_index=False)\n",
    "df_tot_by_yr=df_by_yr['suicides_no'].sum()\n",
    "df_tot_by_yr.head()"
   ]
  },
  {
   "cell_type": "code",
   "execution_count": 16,
   "metadata": {},
   "outputs": [
    {
     "data": {
      "text/html": [
       "<div>\n",
       "<style scoped>\n",
       "    .dataframe tbody tr th:only-of-type {\n",
       "        vertical-align: middle;\n",
       "    }\n",
       "\n",
       "    .dataframe tbody tr th {\n",
       "        vertical-align: top;\n",
       "    }\n",
       "\n",
       "    .dataframe thead th {\n",
       "        text-align: right;\n",
       "    }\n",
       "</style>\n",
       "<table border=\"1\" class=\"dataframe\">\n",
       "  <thead>\n",
       "    <tr style=\"text-align: right;\">\n",
       "      <th></th>\n",
       "      <th>year</th>\n",
       "      <th>sex</th>\n",
       "      <th>suicides_no</th>\n",
       "    </tr>\n",
       "  </thead>\n",
       "  <tbody>\n",
       "    <tr>\n",
       "      <th>0</th>\n",
       "      <td>1985</td>\n",
       "      <td>female</td>\n",
       "      <td>32479</td>\n",
       "    </tr>\n",
       "    <tr>\n",
       "      <th>1</th>\n",
       "      <td>1985</td>\n",
       "      <td>male</td>\n",
       "      <td>83584</td>\n",
       "    </tr>\n",
       "    <tr>\n",
       "      <th>2</th>\n",
       "      <td>1986</td>\n",
       "      <td>female</td>\n",
       "      <td>33852</td>\n",
       "    </tr>\n",
       "    <tr>\n",
       "      <th>3</th>\n",
       "      <td>1986</td>\n",
       "      <td>male</td>\n",
       "      <td>86818</td>\n",
       "    </tr>\n",
       "    <tr>\n",
       "      <th>4</th>\n",
       "      <td>1987</td>\n",
       "      <td>female</td>\n",
       "      <td>35006</td>\n",
       "    </tr>\n",
       "  </tbody>\n",
       "</table>\n",
       "</div>"
      ],
      "text/plain": [
       "   year     sex  suicides_no\n",
       "0  1985  female        32479\n",
       "1  1985    male        83584\n",
       "2  1986  female        33852\n",
       "3  1986    male        86818\n",
       "4  1987  female        35006"
      ]
     },
     "execution_count": 16,
     "metadata": {},
     "output_type": "execute_result"
    }
   ],
   "source": [
    "df_by_yr_world=suicide_df.groupby(['year', 'sex'], as_index=False)\n",
    "df_tot_by_yr_world=df_by_yr_world['suicides_no'].sum()\n",
    "df_tot_by_yr_world.head()"
   ]
  },
  {
   "cell_type": "markdown",
   "metadata": {},
   "source": [
    "### Perform API Calls\n"
   ]
  },
  {
   "cell_type": "markdown",
   "metadata": {},
   "source": [
    "### Post API call check of data\n",
    "* Export the city data into a .csv.\n",
    "* Display the DataFrame info"
   ]
  },
  {
   "cell_type": "markdown",
   "metadata": {},
   "source": [
    "### Plotting the Data\n",
    "* Use proper labeling of the plots using plot titles (including date of analysis) and axes labels.\n",
    "* Save the plotted figures as .pngs."
   ]
  },
  {
   "cell_type": "code",
   "execution_count": null,
   "metadata": {},
   "outputs": [],
   "source": []
  }
 ],
 "metadata": {
  "anaconda-cloud": {},
  "kernel_info": {
   "name": "python3"
  },
  "kernelspec": {
   "display_name": "Python 3",
   "language": "python",
   "name": "python3"
  },
  "language_info": {
   "codemirror_mode": {
    "name": "ipython",
    "version": 3
   },
   "file_extension": ".py",
   "mimetype": "text/x-python",
   "name": "python",
   "nbconvert_exporter": "python",
   "pygments_lexer": "ipython3",
   "version": "3.7.1"
  },
  "nteract": {
   "version": "0.12.3"
  }
 },
 "nbformat": 4,
 "nbformat_minor": 2
}
