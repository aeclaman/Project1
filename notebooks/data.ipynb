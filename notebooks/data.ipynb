{
 "cells": [
  {
   "cell_type": "markdown",
   "metadata": {},
   "source": [
    "# Project 1: Does the number of mental health facilities in a given area affect the suicide rate?\n",
    "----\n",
    "\n",
    "### Data Analysis\n",
    "#### * Found and downloaded mental health facility locations from the samhsa.gov website. \n",
    "\n",
    "---\n"
   ]
  },
  {
   "cell_type": "code",
   "execution_count": 2,
   "metadata": {
    "scrolled": true
   },
   "outputs": [],
   "source": [
    "# Dependencies and Setup\n",
    "import matplotlib.pyplot as plt\n",
    "import pandas as pd\n",
    "import numpy as np\n",
    "import requests\n",
    "import datetime\n",
    "from pprint import pprint\n",
    "\n",
    "# Import API key\n",
    "#from api_keys import api_key\n",
    "\n",
    "\n",
    "# Incorporated citipy to determine city based on latitude and longitude\n",
    "from citipy import citipy\n",
    "\n",
    "# Output File (CSV)\n",
    "#output_facility_data_file = \"../data/cleandata/facilities.csv\"\n",
    "#output_population_data_file = \"../data/cleandata/population.csv\"\n",
    "#output_expenditure_data_file = \"../data/Expenditure.csv\""
   ]
  },
  {
   "cell_type": "markdown",
   "metadata": {},
   "source": [
    "## Data Gathering\n",
    "### * Behavioral Health Treatment Facilities (from Substance Abuse and Mental Health Service Administration)\n"
   ]
  },
  {
   "cell_type": "code",
   "execution_count": 2,
   "metadata": {},
   "outputs": [
    {
     "data": {
      "text/plain": [
       "name1        9686\n",
       "name2        5430\n",
       "city         9686\n",
       "state        9686\n",
       "zip          9686\n",
       "latitude     9685\n",
       "longitude    9685\n",
       "dtype: int64"
      ]
     },
     "execution_count": 2,
     "metadata": {},
     "output_type": "execute_result"
    }
   ],
   "source": [
    "#Mental Health Facilities in the US\n",
    "facilities_file = \"../data/rawdata/Behavioral_Health_Treatment_Facility_listing_2019_03_22_215606.csv\"\n",
    "facilities_df = pd.read_csv(facilities_file)\n",
    "\n",
    "#Keep only necessary columns\n",
    "facilities_df_sub = facilities_df[['    name1', 'name2', 'city', 'state', 'zip', 'latitude', 'longitude']]\n",
    "\n",
    "#Suppress leading spaces on column header for name1\n",
    "facilities_df_final = facilities_df_sub.rename(columns={\"    name1\":\"name1\"})\n",
    "\n",
    "#Look at data for consistency\n",
    "facilities_df_final.count()"
   ]
  },
  {
   "cell_type": "code",
   "execution_count": 3,
   "metadata": {},
   "outputs": [
    {
     "data": {
      "text/plain": [
       "name1        9685\n",
       "name2        5429\n",
       "city         9685\n",
       "state        9685\n",
       "zip          9685\n",
       "latitude     9685\n",
       "longitude    9685\n",
       "dtype: int64"
      ]
     },
     "execution_count": 3,
     "metadata": {},
     "output_type": "execute_result"
    }
   ],
   "source": [
    "#drop one row with no latitude and longitude data\n",
    "facilities_df_final.dropna(subset=['latitude', 'longitude'], inplace=True)\n",
    "facilities_df_final.count()"
   ]
  },
  {
   "cell_type": "code",
   "execution_count": 4,
   "metadata": {},
   "outputs": [
    {
     "name": "stdout",
     "output_type": "stream",
     "text": [
      "name1        9614\n",
      "name2        5379\n",
      "city         9614\n",
      "state        9614\n",
      "zip          9614\n",
      "latitude     9614\n",
      "longitude    9614\n",
      "dtype: int64\n",
      "['TX' 'LA' 'AR' 'MS' 'OK' 'AL' 'MO' 'TN' 'KS' 'NM' 'FL' 'IL' 'KY' 'GA'\n",
      " 'CO' 'NE' 'IN' 'IA' 'NC' 'SC' 'AZ' 'VA' 'OH' 'SD' 'WI' 'WY' 'WV' 'MN'\n",
      " 'UT' 'MI' 'PA' 'CA' 'MD' 'ND' 'NV' 'MT' 'DC' 'ID' 'NY' 'DE' 'NJ' 'CT'\n",
      " 'MA' 'VT' 'OR' 'RI' 'NH' 'WA' 'ME' 'AK' 'HI']\n"
     ]
    }
   ],
   "source": [
    "#remove us territories:  GU (Guam), AS (), PR (Puerto Rico), VI (Virgin Islands) \n",
    "#Note: keeping Washington DC in data, so total group of states will be 51\n",
    "us_facilities_df = facilities_df_final[(facilities_df_final.state != 'GU') & (facilities_df_final.state != 'AS') & (facilities_df_final.state != 'PR') & (facilities_df_final.state != 'VI')]\n",
    "print(us_facilities_df.count())\n",
    "print(us_facilities_df.state.unique())"
   ]
  },
  {
   "cell_type": "code",
   "execution_count": 5,
   "metadata": {},
   "outputs": [],
   "source": [
    "# Export file as a CSV, without the Pandas index, but with the header\n",
    "us_facilities_df.to_csv(output_facility_data_file, index=False, header=True)"
   ]
  },
  {
   "cell_type": "markdown",
   "metadata": {},
   "source": [
    "## Data Gathering\n",
    "### * US Population (from Census Bureau)"
   ]
  },
  {
   "cell_type": "code",
   "execution_count": 6,
   "metadata": {},
   "outputs": [
    {
     "name": "stdout",
     "output_type": "stream",
     "text": [
      "  state  State Name  Population\n",
      "0    AL     Alabama     4887871\n",
      "1    AK      Alaska      737438\n",
      "2    AZ     Arizona     7171646\n",
      "3    AR    Arkansas     3013825\n",
      "4    CA  California    39557045\n"
     ]
    }
   ],
   "source": [
    "#US Census Bureau population in 50 US States\n",
    "us_population_file = \"../data/rawdata/PopulationEstimatesByState.csv\"\n",
    "pop_df = pd.read_csv(us_population_file)\n",
    "\n",
    "#rename abbreviation column to state so as to be able to merge data with other files\n",
    "pop_df = pop_df.rename(columns={\"Abbv\":\"state\",\n",
    "                                \"States\":\"State Name\"})\n",
    "\n",
    "#remove commans in population counts and make it a numeric field\n",
    "pop_df['Population'] = pop_df['Population'].str.replace(',', '')\n",
    "pop_df[\"Population\"] = pd.to_numeric(pop_df[\"Population\"])\n",
    "print(pop_df.head())\n",
    "\n",
    "## Export file as a CSV, without the Pandas index, but with the header\n",
    "pop_df.to_csv(output_population_data_file, index=False, header=True)"
   ]
  },
  {
   "cell_type": "code",
   "execution_count": 1,
   "metadata": {},
   "outputs": [],
   "source": [
    "## Data Gathering\n",
    "### * US Expenditure"
   ]
  },
  {
   "cell_type": "code",
   "execution_count": null,
   "metadata": {},
   "outputs": [],
   "source": [
    "#Mental Health Expenditure 2004-2013 in the US\n",
    "\n",
    "#----------------------------------------------------------------------------\n",
    "expenditure_data_file = \"../data/rawdata/StateMentalHealthServiceExpenditures2004_2013.csv\"\n",
    "expenditure_df = pd.read_csv(expenditure_data_file)\n",
    "\n",
    "expenditure_df = expenditure_df[(expenditure_df.state != 'US') & (expenditure_df.state != 'PR')]\n",
    "\n",
    "#replace NR values with np.nan\n",
    "expenditure_df['FY2011__SMHA Expenditures Per Capita'] = expenditure_df['FY2011__SMHA Expenditures Per Capita'].replace('NR', np.NaN, regex=True)\n",
    "expenditure_df['FY2013__SMHA Expenditures Per Capita'] = expenditure_df['FY2013__SMHA Expenditures Per Capita'].replace('NR', np.NaN, regex=True)\n",
    "\n",
    "#change those columns to numeric values\n",
    "expenditure_df[\"FY2011__SMHA Expenditures Per Capita\"] = pd.to_numeric(expenditure_df[\"FY2011__SMHA Expenditures Per Capita\"])\n",
    "expenditure_df[\"FY2013__SMHA Expenditures Per Capita\"] = pd.to_numeric(expenditure_df[\"FY2013__SMHA Expenditures Per Capita\"])\n",
    "\n",
    "expenditure_df\n",
    "\n",
    "\n",
    "#-clean expenditure data-Complete. Dropped N/A, US &PR data,change NR data to NAN. "
   ]
  },
  {
   "cell_type": "code",
   "execution_count": null,
   "metadata": {},
   "outputs": [],
   "source": [
    "# Export file as a CSV, without the Pandas index, but with the header\n",
    "expenditure_df.to_csv(output_expenditure_data_file, index=False, header=True)"
   ]
  }
 ],
 "metadata": {
  "anaconda-cloud": {},
  "kernel_info": {
   "name": "python3"
  },
  "kernelspec": {
   "display_name": "Python 3",
   "language": "python",
   "name": "python3"
  },
  "language_info": {
   "codemirror_mode": {
    "name": "ipython",
    "version": 3
   },
   "file_extension": ".py",
   "mimetype": "text/x-python",
   "name": "python",
   "nbconvert_exporter": "python",
   "pygments_lexer": "ipython3",
   "version": "3.7.1"
  },
  "nteract": {
   "version": "0.12.3"
  }
 },
 "nbformat": 4,
 "nbformat_minor": 2
}
