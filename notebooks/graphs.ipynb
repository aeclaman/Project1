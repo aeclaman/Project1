{
 "cells": [
  {
   "cell_type": "code",
   "execution_count": 1,
   "metadata": {
    "scrolled": true
   },
   "outputs": [
    {
     "ename": "ModuleNotFoundError",
     "evalue": "No module named 'config'",
     "output_type": "error",
     "traceback": [
      "\u001b[0;31m---------------------------------------------------------------------------\u001b[0m",
      "\u001b[0;31mModuleNotFoundError\u001b[0m                       Traceback (most recent call last)",
      "\u001b[0;32m<ipython-input-1-cb0d77ac37e8>\u001b[0m in \u001b[0;36m<module>\u001b[0;34m\u001b[0m\n\u001b[1;32m      9\u001b[0m \u001b[0;32mimport\u001b[0m \u001b[0mgmaps\u001b[0m\u001b[0;34m.\u001b[0m\u001b[0mdatasets\u001b[0m\u001b[0;34m\u001b[0m\u001b[0;34m\u001b[0m\u001b[0m\n\u001b[1;32m     10\u001b[0m \u001b[0;32mfrom\u001b[0m \u001b[0mmapsplotlib\u001b[0m \u001b[0;32mimport\u001b[0m \u001b[0mmapsplot\u001b[0m \u001b[0;32mas\u001b[0m \u001b[0mmplt\u001b[0m\u001b[0;34m\u001b[0m\u001b[0;34m\u001b[0m\u001b[0m\n\u001b[0;32m---> 11\u001b[0;31m \u001b[0;32mfrom\u001b[0m \u001b[0mconfig\u001b[0m \u001b[0;32mimport\u001b[0m \u001b[0mgkey\u001b[0m\u001b[0;34m\u001b[0m\u001b[0;34m\u001b[0m\u001b[0m\n\u001b[0m\u001b[1;32m     12\u001b[0m \u001b[0mmplt\u001b[0m\u001b[0;34m.\u001b[0m\u001b[0mregister_api_key\u001b[0m\u001b[0;34m(\u001b[0m\u001b[0mapi_key\u001b[0m\u001b[0;34m=\u001b[0m\u001b[0mgkey\u001b[0m\u001b[0;34m)\u001b[0m\u001b[0;34m\u001b[0m\u001b[0;34m\u001b[0m\u001b[0m\n\u001b[1;32m     13\u001b[0m \u001b[0;32mfrom\u001b[0m \u001b[0mpprint\u001b[0m \u001b[0;32mimport\u001b[0m \u001b[0mpprint\u001b[0m\u001b[0;34m\u001b[0m\u001b[0;34m\u001b[0m\u001b[0m\n",
      "\u001b[0;31mModuleNotFoundError\u001b[0m: No module named 'config'"
     ]
    }
   ],
   "source": [
    "# Dependencies and Setup\n",
    "import matplotlib.pyplot as plt\n",
    "import pandas as pd\n",
    "import numpy as np\n",
    "import requests\n",
    "import datetime\n",
    "import os\n",
    "import gmaps\n",
    "import gmaps.datasets\n",
    "from mapsplotlib import mapsplot as mplt\n",
    "from config import gkey\n",
    "mplt.register_api_key(api_key=gkey)\n",
    "from pprint import pprint\n",
    "\n",
    "# Import API key\n",
    "#from api_keys import api_key\n",
    "\n",
    "# Incorporated citipy to determine city based on latitude and longitude\n",
    "from citipy import citipy\n",
    "\n",
    "#Input Files (from cleandata)\n",
    "facilities_file = os.path.join(\"..\", \"data\", \"cleandata\", \"facilities.csv\")\n",
    "us_population_file = os.path.join(\"..\", \"data\", \"cleandata\", \"population.csv\")\n",
    "suicide_us_file = os.path.join(\"..\", \"data\", \"cleandata\", \"master.csv\")\n",
    "Expenditure_file = os.path.join(\"..\", \"data\", \"cleandata\", \"Expenditure.csv\")\n",
    "suicide_file = os.path.join(\"..\", \"data\", \"cleandata\", \"SuicByState10yr.csv\")\n",
    "\n",
    "\n",
    "#Output File (PNG)\n",
    "output_us_2017_rates_bar = os.path.join(\"..\", \"Images\", \"us_suic_rt_2017.png\")\n",
    "output_us_suicide_vs_age = os.path.join(\"..\", \"Images\", \"us_suicide_vs_age_line.png\")\n",
    "output_facilities_vs_pop = os.path.join(\"..\", \"Images\", \"mh_facilities_vs_population.png\")\n",
    "path_out_internat = os.path.join(\"..\", \"Images\", \"internat_suic_sorted.png\")\n",
    "output_us_avg_vs_world_avg = os.path.join(\"..\", \"Images\", \"us_vs_world_line.png\")\n",
    "path_PieMa1985 = os.path.join(\"..\", \"Images\", \"US_male1985.png\")\n",
    "path_PiFe1985 = os.path.join(\"..\", \"Images\", \"US_FEmale1985.png\")\n",
    "path_PiMa2015 = os.path.join(\"..\", \"Images\", \"US_male2015.png\")\n",
    "path_PiFe2015 = os.path.join(\"..\", \"Images\", \"US_FEmale2015.png\")"
   ]
  },
  {
   "cell_type": "markdown",
   "metadata": {},
   "source": [
    "## Bar Chart: US Suicide Rates by State"
   ]
  },
  {
   "cell_type": "code",
   "execution_count": null,
   "metadata": {},
   "outputs": [],
   "source": [
    "df = pd.read_csv('../data/cleandata/SuicByState10yr.csv')\n",
    "df.groupby('stateName').mean()\n",
    "state_data = df[['stateName','2017suic']].set_index('stateName')\n",
    "state_data.sort_values(by=['2017suic'], inplace=True, ascending=False)\n",
    "state_data.plot(kind='bar', figsize=(15,5))\n",
    "\n",
    "\n",
    "plt.ylabel(\"Suicides /100,000 population\")\n",
    "plt.xlabel(\"State\")\n",
    "plt.title(\"Suicide Rates by State, 2017 (per 100,000 population)\")\n",
    "\n",
    "plt.savefig(output_us_2017_rates_bar, bbox_inches=\"tight\")\n",
    "plt.show()\n"
   ]
  },
  {
   "cell_type": "markdown",
   "metadata": {},
   "source": [
    "## Bar Chart: US facilities vs US Population by State\n"
   ]
  },
  {
   "cell_type": "code",
   "execution_count": null,
   "metadata": {},
   "outputs": [],
   "source": [
    "#Read Mental Health Facilities in the US, input into df\n",
    "facilities_df = pd.read_csv(facilities_file)\n",
    "print(facilities_df.count())\n",
    "\n",
    "#Read US Census Bureau population data, input into df\n",
    "pop_df = pd.read_csv(us_population_file)\n",
    "print(pop_df.count())"
   ]
  },
  {
   "cell_type": "code",
   "execution_count": null,
   "metadata": {},
   "outputs": [],
   "source": [
    "# Merge two dataframes using an inner join\n",
    "merge_table = pd.merge(facilities_df, pop_df, on=\"state\", how='inner')\n",
    "merge_table.head()"
   ]
  },
  {
   "cell_type": "code",
   "execution_count": null,
   "metadata": {},
   "outputs": [],
   "source": [
    "#Group merged dt by state so as to plot the bar chart by state\n",
    "facilities_count_by_state = merge_table.groupby('state').agg({'name1':'count','Population':'mean'})\n",
    "facilities_count_by_state.rename(columns={\"name1\":\"Total Facilities\"}, inplace=True)\n",
    "fig = plt.figure() # Create matplotlib figure\n",
    "\n",
    "ax = fig.add_subplot(111) # Create matplotlib axes\n",
    "ax2 = ax.twinx() # Create another axes that shares the same x-axis as ax.\n",
    "\n",
    "facilities_count_by_state['Total Facilities'].plot(kind='bar', color='coral', ax=ax, figsize=(20,5), position=1, align='edge', width=0.3)\n",
    "facilities_count_by_state.Population.plot(kind='bar', color='lightblue', ax=ax2, figsize=(20,5), position=0, align='edge', width=0.3)\n",
    "\n",
    "ax.set_title(\"Number of Mental Health Facilities per US State vs. Population\")\n",
    "ax.set_xlabel(\"State\")\n",
    "ax.set_ylabel('Total Mental Health Facilities')\n",
    "ax2.set_ylabel('Population (ten millions)')\n",
    "\n",
    "fig.legend(loc='upper right', bbox_to_anchor=(0.95, 0.90))\n",
    "\n",
    "# Save our graph and show the graph\n",
    "plt.tight_layout()\n",
    "plt.savefig(output_facilities_vs_pop)\n",
    "plt.show()\n"
   ]
  },
  {
   "cell_type": "markdown",
   "metadata": {},
   "source": [
    "## Line Graph: Age groups vs. Suicide Rate in the US"
   ]
  },
  {
   "cell_type": "code",
   "execution_count": null,
   "metadata": {},
   "outputs": [],
   "source": [
    "#Read Kaggle master suicide data, input into df\n",
    "suicide_df = pd.read_csv(suicide_us_file)\n",
    "#Filter for United States only\n",
    "US_data = suicide_df [suicide_df['country'] == 'United States']\n",
    "US_data.head()\n"
   ]
  },
  {
   "cell_type": "code",
   "execution_count": null,
   "metadata": {},
   "outputs": [],
   "source": [
    "US_data.info()"
   ]
  },
  {
   "cell_type": "code",
   "execution_count": null,
   "metadata": {},
   "outputs": [],
   "source": [
    "#create a dt with only necessary columnns\n",
    "US_data_sub=US_data[['year', 'age', 'suicides_no', 'population', 'suicides/100k pop']]\n",
    "#gather data in groups by year and age range to plot trends\n",
    "df_age_grp_by_yr=US_data_sub.groupby(['year','age'], as_index=False)\n",
    "df_tot_by_yr=df_age_grp_by_yr['suicides_no'].sum()\n",
    "df_tot_by_yr.head()"
   ]
  },
  {
   "cell_type": "code",
   "execution_count": null,
   "metadata": {
    "scrolled": false
   },
   "outputs": [],
   "source": [
    "#Line graph age range vs. suicide rate in US\n",
    "age_grp_1 = df_tot_by_yr.loc[df_tot_by_yr['age']==\"5-14 years\", 'suicides_no']\n",
    "age_grp_2 = df_tot_by_yr.loc[df_tot_by_yr['age']==\"15-24 years\", 'suicides_no']\n",
    "age_grp_3 = df_tot_by_yr.loc[df_tot_by_yr['age']==\"25-34 years\", 'suicides_no']\n",
    "age_grp_4 = df_tot_by_yr.loc[df_tot_by_yr['age']==\"35-54 years\", 'suicides_no']\n",
    "age_grp_5 = df_tot_by_yr.loc[df_tot_by_yr['age']==\"55-74 years\", 'suicides_no']\n",
    "age_grp_6 = df_tot_by_yr.loc[df_tot_by_yr['age']==\"75+ years\", 'suicides_no']\n",
    "time_line = df_tot_by_yr['year'].unique()\n",
    "\n",
    "fig, ax = plt.subplots(figsize=(15, 5))\n",
    "ax.plot(time_line, age_grp_1, label=\"5-14 years\")\n",
    "ax.plot(time_line, age_grp_2, label=\"15-24 years\")\n",
    "ax.plot(time_line, age_grp_3, label=\"25-34 years\")\n",
    "ax.plot(time_line, age_grp_4, label=\"35-54 years\")\n",
    "ax.plot(time_line, age_grp_5, label=\"55-74 years\")\n",
    "ax.plot(time_line, age_grp_6, label=\"75+ years\")\n",
    "ax.legend()\n",
    "\n",
    "# Incorporate the other graph properties\n",
    "plt.title(f\"Total US Suicides by Year and Age Range\" )\n",
    "plt.ylabel(\"Total Suicides\")\n",
    "plt.xlabel(\"Year\")\n",
    "plt.margins(0.01)\n",
    "\n",
    "\n",
    "fig.tight_layout()\n",
    "fig.savefig(output_us_suicide_vs_age)\n",
    "\n",
    "plt.show()"
   ]
  },
  {
   "cell_type": "markdown",
   "metadata": {},
   "source": [
    "## Pie Charts: Age groups by Gender vs. Suicide Rate in the US"
   ]
  },
  {
   "cell_type": "code",
   "execution_count": null,
   "metadata": {},
   "outputs": [],
   "source": [
    "internat_read = os.path.join(\"..\", \"data\", \"cleandata\", \"master.csv\")\n",
    "internat_read = pd.read_csv(internat_read)    \n",
    "## 27820 rows:  Suicide rates by gender, age, GDP for 101countries; \n",
    "## 6agegroups, 2genders, 32yrs (missing years!).\n",
    "## Drop irrelevant columns, Capture only US data:\n",
    "internat_read = internat_read.drop([\"country-year\", \"HDI for year\"], axis=1)\n",
    "internat_drop = pd.DataFrame(internat_read)\n",
    "US_data = internat_drop [internat_drop['country'] == 'United States']\n",
    "## Sort by age groups, yields order: 35-54, 5-14, 55-74 from text strings.\n",
    "US_data = US_data.sort_values('age')\n",
    "US_data.head()                  # 372rows × 12columns, m/f x 6 age groups"
   ]
  },
  {
   "cell_type": "code",
   "execution_count": null,
   "metadata": {},
   "outputs": [],
   "source": [
    "US_data_male = US_data[US_data['sex'] == \"male\"]\n",
    "US_data_female = US_data[US_data['sex'] == \"female\"]\n",
    "## Catch male and female data, then 1st and last complete year\n",
    "US_data_male_1985 = US_data_male[US_data_male['year'] == 1985]\n",
    "US_data_male_2015 = US_data_male[US_data_male['year'] == 2015]\n",
    "US_data_female_1985 = US_data_female[US_data_female['year'] == 1985]\n",
    "US_data_female_2015 = US_data_female[US_data_female['year'] == 2015]"
   ]
  },
  {
   "cell_type": "code",
   "execution_count": null,
   "metadata": {},
   "outputs": [],
   "source": [
    "# pie plots to compare male suicides 30yrs apart, and male:female rates.\n",
    "font = {'family' : 'normal',        ## 4 pie charts/1 page, so font BIG.\n",
    "        'weight' : 'normal',\n",
    "        'size'   : 20}\n",
    "plt.rc('font', **font)\n",
    "labels = (\"15-24 years\",\"25-34 years\",\"35-54 years\",\"5-14 years\", \\\n",
    "          \"55-74 years\",\"75+ years\")\n",
    "explode = (0.1, 0, 0, 0, 0, 0)\n",
    "sizes = US_data_male_1985[\"suicides_no\"]\n",
    "labels = US_data_male_1985[\"age\"]\n",
    "colors = [\"purple\", \"pink\", \"red\", \"lightskyblue\", \"orange\", \"yellowgreen\"]\n",
    "plt.title(\"Suicide by Age Group: 1985, MALES\")\n",
    "plt.pie(sizes, explode=explode, labels=labels, colors=colors,\n",
    "        autopct=\"%1.1f%%\", shadow=True, startangle=135)\n",
    "plt.axis(\"auto\")\n",
    "path_PiMa1985 = os.path.join(\"..\", \"Images\", \"US_male1985.png\")\n",
    "plt.savefig(path_PiMa1985, bbox_inches=\"tight\")"
   ]
  },
  {
   "cell_type": "code",
   "execution_count": null,
   "metadata": {},
   "outputs": [],
   "source": [
    "# Plot FEmales for 1985; then Male rates for 2015, then females for 2015.\n",
    "font = {'family' : 'normal',\n",
    "        'weight' : 'normal',\n",
    "        'size'   : 20}\n",
    "plt.rc('font', **font)\n",
    "labels = (\"15-24 years\",\"25-34 years\",\"35-54 years\",\"5-14 years\", \\\n",
    "          \"55-74 years\",\"75+ years\")\n",
    "explode = (0.1, 0, 0, 0, 0, 0)\n",
    "sizes = US_data_female_1985[\"suicides_no\"]\n",
    "labels = US_data_female_1985[\"age\"]\n",
    "colors = [\"purple\", \"pink\", \"red\", \"lightskyblue\", \"orange\", \"yellowgreen\"]\n",
    "plt.title(\"Suicide by Age Group: 1985, FEmales\")\n",
    "plt.pie(sizes, explode=explode, labels=labels, colors=colors,\n",
    "        autopct=\"%1.1f%%\", shadow=True, startangle=135)\n",
    "plt.axis(\"auto\")\n",
    "path_PiFe1985 = os.path.join(\"..\", \"Images\", \"US_FEmale1985.png\")\n",
    "plt.savefig(path_PiFe1985, bbox_inches=\"tight\")"
   ]
  },
  {
   "cell_type": "code",
   "execution_count": null,
   "metadata": {},
   "outputs": [],
   "source": [
    "font = {'family' : 'normal',\n",
    "        'weight' : 'normal',\n",
    "        'size'   : 20}\n",
    "plt.rc('font', **font)\n",
    "labels = (\"15-24 years\",\"25-34 years\",\"35-54 years\",\"5-14 years\",\"55-74 years\",\"75+ years\")\n",
    "explode = (0.1, 0, 0, 0, 0, 0)\n",
    "sizes = US_data_male_2015[\"suicides_no\"]\n",
    "labels = US_data_male_2015[\"age\"]\n",
    "colors = [\"purple\", \"pink\", \"red\", \"lightskyblue\", \"orange\", \"yellowgreen\"]\n",
    "plt.title(\"Suicide by Age Group: 2015, MALES\")\n",
    "plt.pie(sizes, explode=explode, labels=labels, colors=colors,\n",
    "        autopct=\"%1.1f%%\", shadow=True, startangle=135)\n",
    "plt.axis(\"auto\")\n",
    "path_PiMa2015 = os.path.join(\"..\", \"Images\", \"US_male2015.png\")\n",
    "plt.savefig(path_PiMa2015, bbox_inches=\"tight\")"
   ]
  },
  {
   "cell_type": "code",
   "execution_count": null,
   "metadata": {},
   "outputs": [],
   "source": [
    "font = {'family' : 'normal',\n",
    "        'weight' : 'normal',\n",
    "        'size'   : 20}\n",
    "plt.rc('font', **font)\n",
    "labels = (\"15-24 years\",\"25-34 years\",\"35-54 years\",\"5-14 years\",\"55-74 years\",\"75+ years\")\n",
    "explode = (0.1, 0, 0, 0, 0, 0)\n",
    "sizes = US_data_female_2015[\"suicides_no\"]\n",
    "labels = US_data_female_2015[\"age\"]\n",
    "colors = [\"purple\", \"pink\", \"red\", \"lightskyblue\", \"orange\", \"yellowgreen\"]\n",
    "plt.title(\"Suicide by Age Group: 2015, FEmales\")\n",
    "plt.pie(sizes, explode=explode, labels=labels, colors=colors,\n",
    "        autopct=\"%1.1f%%\", shadow=True, startangle=135)\n",
    "plt.axis(\"auto\")\n",
    "path_PiFe2015 = os.path.join(\"..\", \"Images\", \"US_FEmale2015.png\")\n",
    "plt.savefig(path_PiFe2015, bbox_inches=\"tight\")"
   ]
  },
  {
   "cell_type": "markdown",
   "metadata": {},
   "source": [
    "## Suicide Rates by Country, OECD"
   ]
  },
  {
   "cell_type": "code",
   "execution_count": null,
   "metadata": {},
   "outputs": [],
   "source": [
    "#  open data file from OECD, Organisation for Economic Co-operation and Development\n",
    "path_in = os.path.join(\"..\", \"data\", \"cleandata\", \"DP_LIVE_21032019024128590.csv\")\n",
    "oecd_data = pd.read_csv(path_in)\n",
    "oecd_df = pd.DataFrame(oecd_data)\n",
    "oecd_df.head()\n",
    "# each country may have multiple years, 1 line/year\n",
    "# no breakout just total suicides per capita age-adjusted (good basis of comparison)"
   ]
  },
  {
   "cell_type": "code",
   "execution_count": null,
   "metadata": {},
   "outputs": [],
   "source": [
    "# len(oecd_df.groupby([\"LOCATION\"]).groups)     # 38 countries, \n",
    "# oecd_df.groupby('LOCATION').first()          # all have values for 2014\n",
    "# oecd_df.groupby('LOCATION').last()          # some ONLY have data for 2014\n",
    "# No population data or economica data, but a good overview comparing 2nd-1st world.\n",
    "### Groupby to gather only 2014 data, since it is the only complete year. \n",
    "### Then sort by lowest to hightest suic rate. Set new index once sorted.\n",
    "oecd_group = pd.DataFrame(oecd_df.groupby('LOCATION').first())\n",
    "oecd_group = oecd_group.sort_values('Value')\n",
    "oecd_group = oecd_group.reset_index()\n",
    "oecd_group.head()"
   ]
  },
  {
   "cell_type": "code",
   "execution_count": null,
   "metadata": {},
   "outputs": [],
   "source": [
    "# The country codes are difficult to understand. And don't match the OECD members.\n",
    "country_members = [\"Australia\",\"Austria\"\"Belgium\",\"Canada\",\"Chile\",\"Czech Republic\",\\\n",
    "                   \"Denmark\",\"Estonia\",\"Finland\",\"France\",\"Germany\",\"Greece\",\"Hungary\",\\\n",
    "                   \"Iceland\",\"Ireland\",\"Israël\",\"Italy\",\"Japan\",\"Korea\",\"Latvia\",\"Lithuania\"\\\n",
    "                   \"Luxembourg\",\"Mexico\",\"Netherlands\",\"New Zealand\",\"Norway\",\"Poland\",\\\n",
    "                   \"Portugal\",\"Slovak Republic\",\"Slovenia\",\"Spain\",\"Switzerland\",\n",
    "                   \"Turkey\",\"United Kingdom\",\"United States\"]\n",
    "# len(country_members)                        # 36 countries... ZAF and which other are extra? \n",
    "# len(oecd_group.loc[:,\"LOCATION\"])         # 38 countries\n",
    "print(*oecd_group.loc[:,\"LOCATION\"])\n",
    "print(*country_members)\n",
    "###  oecd_df is missing \"Canada\", \"Latvia\", \"New Zealand\", \"United States\"\n",
    "###  oecd_df extras incl. \"BRA\", \"COL\", \"CRI\", \"LVA\", \"ZAF\""
   ]
  },
  {
   "cell_type": "code",
   "execution_count": null,
   "metadata": {},
   "outputs": [],
   "source": [
    "# Convert 3-letter country codes > European names, the hard way.\n",
    "countries = {\"AUS\":\"Australia\", \"AUT\":\"Austria\", \"BEL\":\"Belgium\", \\\n",
    "             \"BRA\":\"Brazil\", \"CHE\":\"Switzerland\", \"CHL\":\"Chile\", \n",
    "             \"COL\":\"Columbia\", \"CRI\":\"Costa Rica\", \"CZE\":\"Czech Republic\",\\\n",
    "             \"DEU\":\"Germany\", \"DNK\":\"Denmark\", \"ESP\":\"Spain\", \\\n",
    "             \"EST\":\"Estonia\", \"FIN\":\"Finland\", \"FRA\":\"France\", \\\n",
    "             \"GBR\":\"United Kingdom\", \"GRC\":\"Greece\", \"HUN\":\"Hungary\", \\\n",
    "             \"IRL\":\"Ireland\", \"ISL\":\"Iceland\", \"ISR\":\"Israël\", \\\n",
    "             \"ITA\":\"Italy\", \"JPN\":\"Japan\", \"KOR\":\"Korea\", \\\n",
    "             \"LTU\":\"Lithuania\", \"LUX\":\"Luxembourg\", \"MEX\":\"Mexico\", \\\n",
    "             \"NLD\":\"Netherlands\", \"NOR\":\"Norway\", \"POL\":\"Poland\", \\\n",
    "             \"PRT\":\"Portugal\", \"SLV\":\"Slovak Republic\", \"SVN\":\"Slovenia\", \\\n",
    "             \"SWE\":\"Sweden\", \"TUR\":\"Turkey\", \"ZAF\":\"South Africa\"}\n",
    "oecd_group.replace(to_replace=countries, value=None, inplace=True)\n",
    "oecd_countries = pd.DataFrame(oecd_group)\n",
    "oecd_countries.head()"
   ]
  },
  {
   "cell_type": "code",
   "execution_count": null,
   "metadata": {},
   "outputs": [],
   "source": [
    "y_axis = np.arange(len(oecd_countries))\n",
    "plt.figure(figsize=(5,8))\n",
    "plt.barh(y_axis, oecd_countries[\"Value\"], color='r', align=\"center\", \\\n",
    "         edgecolor='k', linewidth=1)\n",
    "plt.xlim(-0.5, (oecd_countries[\"Value\"]).max()+1)\n",
    "plt.ylim(-1, len(oecd_countries))\n",
    "labels = oecd_countries.loc[:,\"LOCATION\"]\n",
    "plt.yticks(y_axis, labels) \n",
    "plt.title(\"Suicide Rates by Country, 2014 (per 100,000 population)\")\n",
    "plt.xlabel(\"Suicides /100,000 population\")\n",
    "plt.ylabel(\"Countries\")\n",
    "\n",
    "plt.savefig(path_out_internat, bbox_inches=\"tight\")\n",
    "plt.show()\n"
   ]
  },
  {
   "cell_type": "code",
   "execution_count": null,
   "metadata": {},
   "outputs": [],
   "source": []
  },
  {
   "cell_type": "markdown",
   "metadata": {},
   "source": [
    "## Mental Health Facility locations on US map\n"
   ]
  },
  {
   "cell_type": "code",
   "execution_count": null,
   "metadata": {},
   "outputs": [],
   "source": [
    "facilities_df = pd.read_csv(facilities_file)\n",
    "facilities_df.head()"
   ]
  },
  {
   "cell_type": "code",
   "execution_count": null,
   "metadata": {},
   "outputs": [],
   "source": [
    "location = facilities_df[[\"latitude\", \"longitude\"]]\n",
    "location.head()"
   ]
  },
  {
   "cell_type": "code",
   "execution_count": null,
   "metadata": {},
   "outputs": [],
   "source": [
    "mplt.density_plot(location['latitude'], location['longitude'])"
   ]
  },
  {
   "cell_type": "code",
   "execution_count": null,
   "metadata": {},
   "outputs": [],
   "source": [
    "con_us=facilities_df[(facilities_df[\"state\"]!= \"HI\")&(facilities_df[\"state\"]!= \"AK\")]\n",
    "\n",
    "\n",
    "location_one = con_us[[\"latitude\", \"longitude\"]]"
   ]
  },
  {
   "cell_type": "code",
   "execution_count": null,
   "metadata": {},
   "outputs": [],
   "source": [
    "mplt.density_plot(con_us['latitude'] , con_us['longitude'])"
   ]
  },
  {
   "cell_type": "code",
   "execution_count": null,
   "metadata": {},
   "outputs": [],
   "source": [
    "I_dontknow =facilities_df[(facilities_df[\"state\"]== \"HI\")&(facilities_df[\"state\"]!= \"AK\")]\n",
    "I_dontknow.head()"
   ]
  },
  {
   "cell_type": "code",
   "execution_count": null,
   "metadata": {},
   "outputs": [],
   "source": [
    "mplt.density_plot(I_dontknow['latitude'] ,I_dontknow['longitude'])"
   ]
  },
  {
   "cell_type": "code",
   "execution_count": null,
   "metadata": {},
   "outputs": [],
   "source": [
    "alaska =facilities_df[(facilities_df[\"state\"]== \"AK\")&(facilities_df[\"state\"]!= \"HI\")]\n",
    "alaska.head()"
   ]
  },
  {
   "cell_type": "code",
   "execution_count": null,
   "metadata": {},
   "outputs": [],
   "source": [
    "mplt.density_plot(alaska['latitude'] ,alaska['longitude'])"
   ]
  },
  {
   "cell_type": "markdown",
   "metadata": {},
   "source": [
    "## US suicide rate vs World suicide rate"
   ]
  },
  {
   "cell_type": "code",
   "execution_count": null,
   "metadata": {},
   "outputs": [],
   "source": [
    "suicide_df = pd.read_csv(suicide_us_file)\n",
    "#remove 2016 data b/c only there for some countries\n",
    "suicide_new_df = suicide_df[suicide_df['year']!=2016]\n",
    "\n",
    "summary_df = suicide_new_df.groupby(['country', 'year'], as_index=False).agg({'suicides/100k pop':'sum'})\n",
    "\n",
    "summary_df.pivot(index='country', columns='year', values='suicides/100k pop')\n",
    "# Set the 'Country Code' to be our index for easy referencing of rows\n",
    "summary_df = summary_df.set_index(\"country\")\n",
    "# Collect the mean suicide rates for the world\n",
    "average_suicide = summary_df.groupby('year').mean()\n",
    "# Collect the years where data was collected\n",
    "years = summary_df.year.unique()\n",
    "\n",
    "#i have no idea why I can't get series returned just using the .loc; this is a workaround\n",
    "x=summary_df.loc[['United States'], [\"year\", \"suicides/100k pop\"]].groupby('year')\n",
    "us_average = x.mean()\n",
    "\n",
    "fig = plt.figure(figsize=(10,3))\n",
    "\n",
    "# Plot the world average as a line chart\n",
    "world_avg, = plt.plot(sorted(years), average_suicide, color=\"blue\", label=\"World Average\" )\n",
    "\n",
    "# Plot the unemployment values for a single country\n",
    "country_one, = plt.plot(sorted(years), us_average, color=\"green\",label='United States')\n",
    "\n",
    "# Create a legend for our chart\n",
    "plt.legend(handles=[world_avg, country_one], loc=\"best\")\n",
    "plt.title(f\"US vs. World Suicide Rate\" )\n",
    "plt.ylabel(\"Suicides/100k Population\")\n",
    "plt.xlabel(\"Year\")\n",
    "\n",
    "# Show the chart\n",
    "fig.tight_layout()\n",
    "fig.savefig(output_us_avg_vs_world_avg)\n",
    "\n",
    "plt.show()"
   ]
  },
  {
   "cell_type": "markdown",
   "metadata": {},
   "source": [
    "## Next Chart:"
   ]
  },
  {
   "cell_type": "code",
   "execution_count": null,
   "metadata": {},
   "outputs": [],
   "source": [
    "ourExpenditure_df = pd.read_csv(Expenditure_file)\n",
    "suicide_df = pd.read_csv(suicide_file)\n",
    "\n",
    "\n",
    "\n",
    "Expenditures_2004 = ourExpenditure_df['FY2004__SMHA Expenditures Per Capita']\n",
    "Expenditures_2005 = ourExpenditure_df['FY2005__SMHA Expenditures Per Capita']\n",
    "Expenditures_2006 = ourExpenditure_df['FY2006__SMHA Expenditures Per Capita']\n",
    "Expenditures_2007 = ourExpenditure_df['FY2007__SMHA Expenditures Per Capita']\n",
    "Expenditures_2008 = ourExpenditure_df['FY2008__SMHA Expenditures Per Capita']\n",
    "Expenditures_2009 = ourExpenditure_df['FY2009__SMHA Expenditures Per Capita']\n",
    "Expenditures_2010 = ourExpenditure_df['FY2010__SMHA Expenditures Per Capita']\n",
    "Expenditures_2011 = ourExpenditure_df['FY2011__SMHA Expenditures Per Capita']\n",
    "Expenditures_2012 = ourExpenditure_df['FY2012__SMHA Expenditures Per Capita'] \n",
    "Expenditures_2013 = ourExpenditure_df['FY2013__SMHA Expenditures Per Capita']\n",
    "\n",
    "\n",
    "suicide_rate_2004 = ourfiltered_suicide_df ['2004suic']\n",
    "suicide_rate_2005 = ourfiltered_suicide_df ['2005suic']\n",
    "suicide_rate_2006 = ourfiltered_suicide_df ['2006suic']\n",
    "suicide_rate_2007 = ourfiltered_suicide_df ['2007suic']\n",
    "suicide_rate_2008 = ourfiltered_suicide_df ['2008suic']\n",
    "suicide_rate_2009 = ourfiltered_suicide_df ['2009suic']\n",
    "suicide_rate_2010 = ourfiltered_suicide_df ['2010suic']\n",
    "suicide_rate_2011 = ourfiltered_suicide_df ['2011suic']\n",
    "suicide_rate_2012 = ourfiltered_suicide_df ['2012suic']\n",
    "suicide_rate_2013 = ourfiltered_suicide_df ['2013suic']\n",
    "\n",
    "plt.figure(figsize=(15,15), dpi=50)\n",
    "\n",
    "\n",
    "scatter_2004 = plt.scatter(Expenditures_2004,suicide_rate_2004, s= 150, marker= \"o\", facecolors=\"blue\", edgecolors=\"black\", alpha=.8)\n",
    "scatter_2005 = plt.scatter(Expenditures_2005, suicide_rate_2005,s= 150, marker= \"s\", facecolors=\"blue\", edgecolors=\"black\", alpha=.8)\n",
    "scatter_2006 = plt.scatter(Expenditures_2006, suicide_rate_2006,s= 150, marker= \"o\", facecolors=\"yellow\", edgecolors=\"black\", alpha=.8)\n",
    "scatter_2007 = plt.scatter(Expenditures_2007, suicide_rate_2007,s= 150, marker= \"s\", facecolors=\"yellow\", edgecolors=\"black\", alpha=.8)\n",
    "scatter_2008 = plt.scatter(Expenditures_2008, suicide_rate_2008,s= 150, marker= \"o\", facecolors=\"orange\", edgecolors=\"black\", alpha=.8)\n",
    "scatter_2009 = plt.scatter(Expenditures_2009, suicide_rate_2009,s= 150, marker= \"s\", facecolors=\"orange\", edgecolors=\"black\", alpha=.8)\n",
    "scatter_2010 = plt.scatter(Expenditures_2010, suicide_rate_2010,s= 150, marker= \"o\", facecolors=\"green\", edgecolors=\"black\", alpha=.8)\n",
    "scatter_2011 = plt.scatter(Expenditures_2011, suicide_rate_2011,s= 150, marker= \"s\", facecolors=\"green\", edgecolors=\"black\", alpha=.8)\n",
    "scatter_2012 = plt.scatter(Expenditures_2012, suicide_rate_2012,s= 150, marker= \"o\", facecolors=\"red\", edgecolors=\"black\", alpha=.8)\n",
    "scatter_2013 = plt.scatter(Expenditures_2013, suicide_rate_2013,s= 150, marker= \"s\", facecolors=\"red\", edgecolors=\"black\", alpha=.8)\n",
    "\n",
    "\n",
    "\n",
    "plt.title(\"State Spending on Mental Health Services by Year\", fontsize = 30)\n",
    "plt.xlabel(\"Expenditures Per Capita (Millions)\", fontsize=30)\n",
    "plt.ylabel(\"Suicide Rate\", fontsize = 30)\n",
    "plt.grid()\n",
    "\n",
    "\n",
    "\n",
    "plt.legend((scatter_2004, scatter_2005, scatter_2006,scatter_2007,scatter_2008,scatter_2009, scatter_2010,scatter_2011,scatter_2012,scatter_2013),\n",
    "           ('2004', '2005', '2006','2007','2008', '2009', '2010', '2011','2012','2013'), loc ='lower left', bbox_to_anchor=(1, 0.5),\n",
    "           scatterpoints= 1,fontsize=25)\n",
    "# Save Figure\n",
    "plt.savefig(\"../Images/State_Spending_Affects_On_Mental_Health.png\")\n",
    "\n",
    "plt.show()\n",
    "\n"
   ]
  }
 ],
 "metadata": {
  "anaconda-cloud": {},
  "kernel_info": {
   "name": "python3"
  },
  "kernelspec": {
   "display_name": "Python 3",
   "language": "python",
   "name": "python3"
  },
  "language_info": {
   "codemirror_mode": {
    "name": "ipython",
    "version": 3
   },
   "file_extension": ".py",
   "mimetype": "text/x-python",
   "name": "python",
   "nbconvert_exporter": "python",
   "pygments_lexer": "ipython3",
   "version": "3.7.1"
  },
  "nteract": {
   "version": "0.12.3"
  }
 },
 "nbformat": 4,
 "nbformat_minor": 2
}
