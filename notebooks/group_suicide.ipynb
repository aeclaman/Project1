{
 "cells": [
  {
   "cell_type": "code",
   "execution_count": 1,
   "metadata": {},
   "outputs": [],
   "source": [
    "import pandas as pd \n",
    "import os\n",
    "import pandas as pd\n",
    "import numpy as np\n",
    "import matplotlib.pyplot as plt"
   ]
  },
  {
   "cell_type": "code",
   "execution_count": 2,
   "metadata": {},
   "outputs": [
    {
     "name": "stdout",
     "output_type": "stream",
     "text": [
      "<class 'pandas.core.frame.DataFrame'>\n",
      "RangeIndex: 27820 entries, 0 to 27819\n",
      "Data columns (total 12 columns):\n",
      "country               27820 non-null object\n",
      "year                  27820 non-null int64\n",
      "sex                   27820 non-null object\n",
      "age                   27820 non-null object\n",
      "suicides_no           27820 non-null int64\n",
      "population            27820 non-null int64\n",
      "suicides/100k pop     27820 non-null float64\n",
      "country-year          27820 non-null object\n",
      "HDI for year          8364 non-null float64\n",
      " gdp_for_year ($)     27820 non-null object\n",
      "gdp_per_capita ($)    27820 non-null int64\n",
      "generation            27820 non-null object\n",
      "dtypes: float64(2), int64(4), object(6)\n",
      "memory usage: 2.5+ MB\n"
     ]
    },
    {
     "data": {
      "text/html": [
       "<div>\n",
       "<style scoped>\n",
       "    .dataframe tbody tr th:only-of-type {\n",
       "        vertical-align: middle;\n",
       "    }\n",
       "\n",
       "    .dataframe tbody tr th {\n",
       "        vertical-align: top;\n",
       "    }\n",
       "\n",
       "    .dataframe thead th {\n",
       "        text-align: right;\n",
       "    }\n",
       "</style>\n",
       "<table border=\"1\" class=\"dataframe\">\n",
       "  <thead>\n",
       "    <tr style=\"text-align: right;\">\n",
       "      <th></th>\n",
       "      <th>country</th>\n",
       "      <th>year</th>\n",
       "      <th>sex</th>\n",
       "      <th>age</th>\n",
       "      <th>suicides_no</th>\n",
       "      <th>population</th>\n",
       "      <th>suicides/100k pop</th>\n",
       "      <th>country-year</th>\n",
       "      <th>HDI for year</th>\n",
       "      <th>gdp_for_year ($)</th>\n",
       "      <th>gdp_per_capita ($)</th>\n",
       "      <th>generation</th>\n",
       "    </tr>\n",
       "  </thead>\n",
       "  <tbody>\n",
       "    <tr>\n",
       "      <th>0</th>\n",
       "      <td>Albania</td>\n",
       "      <td>1987</td>\n",
       "      <td>male</td>\n",
       "      <td>15-24 years</td>\n",
       "      <td>21</td>\n",
       "      <td>312900</td>\n",
       "      <td>6.71</td>\n",
       "      <td>Albania1987</td>\n",
       "      <td>NaN</td>\n",
       "      <td>2,156,624,900</td>\n",
       "      <td>796</td>\n",
       "      <td>Generation X</td>\n",
       "    </tr>\n",
       "    <tr>\n",
       "      <th>1</th>\n",
       "      <td>Albania</td>\n",
       "      <td>1987</td>\n",
       "      <td>male</td>\n",
       "      <td>35-54 years</td>\n",
       "      <td>16</td>\n",
       "      <td>308000</td>\n",
       "      <td>5.19</td>\n",
       "      <td>Albania1987</td>\n",
       "      <td>NaN</td>\n",
       "      <td>2,156,624,900</td>\n",
       "      <td>796</td>\n",
       "      <td>Silent</td>\n",
       "    </tr>\n",
       "  </tbody>\n",
       "</table>\n",
       "</div>"
      ],
      "text/plain": [
       "   country  year   sex          age  suicides_no  population  \\\n",
       "0  Albania  1987  male  15-24 years           21      312900   \n",
       "1  Albania  1987  male  35-54 years           16      308000   \n",
       "\n",
       "   suicides/100k pop country-year  HDI for year  gdp_for_year ($)   \\\n",
       "0               6.71  Albania1987           NaN      2,156,624,900   \n",
       "1               5.19  Albania1987           NaN      2,156,624,900   \n",
       "\n",
       "   gdp_per_capita ($)    generation  \n",
       "0                 796  Generation X  \n",
       "1                 796        Silent  "
      ]
     },
     "execution_count": 2,
     "metadata": {},
     "output_type": "execute_result"
    }
   ],
   "source": [
    "internat_read = os.path.join(\"..\", \"data\", \"cleandata\", \"master.csv\")\n",
    "internat_read_df = pd.read_csv(internat_read)\n",
    "internat_read_df.info()\n",
    "internat_read_df.head(2)\n",
    "# internat_read_df.groupby([\"country\"]).groups         \n",
    "# 27820 rows:  101countries; 6agegroups, 2genders, 32yrs (missing years!)"
   ]
  },
  {
   "cell_type": "code",
   "execution_count": 3,
   "metadata": {},
   "outputs": [],
   "source": [
    "# internat_read_df = internat_read_df.drop([\"country-year\", \"HDI for year\"], axis=1)\n",
    "# row_drop = {'Qatar', 'Kazakhstan', 'Malta', 'Suriname', 'Serbia', \\\n",
    "#             'Ukraine', 'Latvia', 'Belarus', 'Kiribati', 'Bahamas', \\\n",
    "#             'Fiji', 'Cabo Verde', 'Kyrgyzstan', 'United Arab Emirates', \\\n",
    "#             'Saint Lucia', 'Russian Federation', 'Paraguay', \\\n",
    "#             'Bosnia and Herzegovina', 'Romania', 'Nicaragua', \\\n",
    "#             'Montenegro', 'Guatemala', 'Dominica', 'Bulgaria', \\\n",
    "#             'Barbados', 'Turkmenistan', 'Trinidad and Tobago', \\\n",
    "#             'Macau', 'Maldives', 'Uruguay', 'Saint Kitts and Nevis', \\\n",
    "#             'Oman', 'Bahrain', 'Puerto Rico', 'Argentina', \\\n",
    "#             'El Salvador', 'Grenada', 'Ecuador', 'Philippines', \\\n",
    "#             'Sri Lanka', 'Antigua and Barbuda', 'Mauritius', \\\n",
    "#             'Mongolia', 'San Marino', 'Azerbaijan', 'Belize', \\\n",
    "#             'Georgia', 'Guyana', 'Cuba', 'Aruba', 'Armenia', \\\n",
    "#             'Saint Vincent and Grenadines', 'Panama', 'Seychelles', \\\n",
    "#             'New Zealand', 'Uzbekistan', 'Cyprus', 'Singapore', \\\n",
    "#             'Thailand', 'Jamaica', 'Albania', 'Croatia', 'Kuwait'}\n",
    "# internat_read_df = internat_read_df.drop(labels=row_drop, axis=0)\n",
    "# internat_read_df.head()\n",
    "# # internat_drop_df = pd.DataFrame(internat_read_df)\n",
    "# # internat_drop_df.head()\n",
    "\n",
    "# internat_read_df.head()"
   ]
  },
  {
   "cell_type": "code",
   "execution_count": 4,
   "metadata": {},
   "outputs": [
    {
     "ename": "SyntaxError",
     "evalue": "unexpected EOF while parsing (<ipython-input-4-ae9befb65e93>, line 1)",
     "output_type": "error",
     "traceback": [
      "\u001b[0;36m  File \u001b[0;32m\"<ipython-input-4-ae9befb65e93>\"\u001b[0;36m, line \u001b[0;32m1\u001b[0m\n\u001b[0;31m    internat_drop = internat_read_df.loc[internat_read_df[\"country\"] ==\u001b[0m\n\u001b[0m                                                                        ^\u001b[0m\n\u001b[0;31mSyntaxError\u001b[0m\u001b[0;31m:\u001b[0m unexpected EOF while parsing\n"
     ]
    }
   ],
   "source": [
    "internat_drop = internat_read_df.loc[internat_read_df[\"country\"] == "
   ]
  },
  {
   "cell_type": "code",
   "execution_count": null,
   "metadata": {},
   "outputs": [],
   "source": [
    "# internat_read_df.info()         # 27820 entries, 12 columns, data types appropriate\n",
    "# COLS1: country; year; sex; age; suicides_no; population; suicides/100k pop; \n",
    "# COLS2: country-year; HDI for year; gdp_for_year ($); gdp_per_capita ($); generation\n",
    "country_set=set()\n",
    "year_set=set()\n",
    "age_set=set()\n",
    "generation_set=set()\n",
    "for i in range(len(internat_read_df)):\n",
    "    country_set.add(internat_read_df.loc[i, \"country\"])\n",
    "    year_set.add(internat_read_df.loc[i, \"year\"])\n",
    "    age_set.add(internat_read_df.loc[i, \"age\"])\n",
    "    generation_set.add(internat_read_df.loc[i, \"generation\"])\n",
    "print(country_set)\n",
    "print(year_set)               ## 1985 - 2016, but missing value after 2014\n"
   ]
  },
  {
   "cell_type": "code",
   "execution_count": null,
   "metadata": {},
   "outputs": [],
   "source": [
    "# oecd_group = oecd_group.sort_values('Value')\n",
    "# oecd_group = oecd_group.reset_index()\n",
    "# oecd_group.head()"
   ]
  },
  {
   "cell_type": "code",
   "execution_count": null,
   "metadata": {},
   "outputs": [],
   "source": [
    "# pie plots to compare male suicides 30yrs apart, and male:female rates.\n",
    "# labels = {\"5-14 years\",\"15-24 years\",\"25-34 years\",\"35-54 years\",\"55-74 years\", \"75+ years\"}\n",
    "# sizes = [US_data_male_1985.loc[:, \"suicides_no\"]]\n",
    "# explode = (0, 0.2, 0, 0, 0, 0)\n",
    "# labels = [US_data_male_1985.loc[:, \"age\"]]\n",
    "# # colors = [\"yellow\",\"green\",\"lightblue\",\"orange\",\"red\",\"purple\",\"pink\",\n",
    "# #           \"yellowgreen\",\"lightskyblue\",\"lightcoral\"]\n",
    "# colors = [\"pink\", \"lightcoral\", \"purple\", \"orange\", \"red\", \"lightskyblue\" ]\n",
    "# plt.pie(sizes, explode=explode, labels=labels, colors=colors,\n",
    "#         autopct=\"%1.1f%%\", shadow=True, startangle=140)\n",
    "# plt.axis(\"auto\")\n",
    "# plt.show()"
   ]
  },
  {
   "cell_type": "code",
   "execution_count": null,
   "metadata": {},
   "outputs": [],
   "source": [
    "# US_data = suicide_us_df [suicide_us_df['country'] == 'United States']\n",
    "# US_data.head(0)                      # 372 rows × 12 columns\n",
    "# US_data_male = US_data[US_data['sex'] == \"male\"]\n",
    "# US_data_female = US_data[US_data['sex'] == \"female\"]\n",
    "# US_data_male_1985 = US_data_male[US_data_male['year'] == 1985]\n",
    "# US_data_male_2015 = US_data_male[US_data_male['year'] == 2015]\n",
    "# US_data_female_1985 = US_data_female[USJ_data_female['year'] == 1985]\n",
    "# US_data_female_2015 = US_data_female[US_data_female['year'] == 2015]\n",
    "# US_data_male_1985\n"
   ]
  }
 ],
 "metadata": {
  "kernelspec": {
   "display_name": "Python 3",
   "language": "python",
   "name": "python3"
  },
  "language_info": {
   "codemirror_mode": {
    "name": "ipython",
    "version": 3
   },
   "file_extension": ".py",
   "mimetype": "text/x-python",
   "name": "python",
   "nbconvert_exporter": "python",
   "pygments_lexer": "ipython3",
   "version": "3.7.1"
  }
 },
 "nbformat": 4,
 "nbformat_minor": 2
}
