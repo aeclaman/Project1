{
 "cells": [
  {
   "cell_type": "code",
   "execution_count": null,
   "metadata": {},
   "outputs": [],
   "source": [
    "#scores by School spending\n",
    "bins=[575,600,625,650,675]\n",
    "binnames=[\"575 to 600\",\"600 to 625\",\"625 to 650\",\"650 to 675\"]\n",
    "School_summary_df2[\"Spending ranges Per student\"] = pd.cut(School_summary_df2[\"Per Student Budget\"],bins,labels=binnames)\n",
    "#School_summary_df2.head(3)\n",
    "\n",
    "## create data frame with relevant columns, group by per student summary and calc mean.\n",
    "##These are the Final scores by school spending. \n",
    "School_summary_df3 = School_summary_df2[[\"Average Math Score\",\"Average Reading Score\",\"% Passing Math\",\"% Passing Reading\",\n",
    "                                       \"Overall Passing Rate\", \"Spending ranges Per student\"]]\n",
    "School_summary_df3 = School_summary_df3.groupby('Spending ranges Per student')\n",
    "School_spending_summary_final= School_summary_df3.mean()\n",
    "School_spending_summary_final\n",
    "\n",
    "School_size_df1 = School_summary_dfnum\n",
    "#School_size_df1.sort_values('Total Students').head(2) \n"
   ]
  }
 ],
 "metadata": {
  "kernelspec": {
   "display_name": "Python 3",
   "language": "python",
   "name": "python3"
  },
  "language_info": {
   "codemirror_mode": {
    "name": "ipython",
    "version": 3
   },
   "file_extension": ".py",
   "mimetype": "text/x-python",
   "name": "python",
   "nbconvert_exporter": "python",
   "pygments_lexer": "ipython3",
   "version": "3.7.1"
  }
 },
 "nbformat": 4,
 "nbformat_minor": 2
}
